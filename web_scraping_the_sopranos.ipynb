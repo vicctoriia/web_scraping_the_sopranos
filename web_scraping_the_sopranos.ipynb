{
  "nbformat": 4,
  "nbformat_minor": 0,
  "metadata": {
    "colab": {
      "name": "web_scraping_the_sopranos.ipynb",
      "provenance": [],
      "authorship_tag": "ABX9TyM8zJMC26z7fixfDB5PlNea",
      "include_colab_link": true
    },
    "kernelspec": {
      "name": "python3",
      "display_name": "Python 3"
    },
    "language_info": {
      "name": "python"
    }
  },
  "cells": [
    {
      "cell_type": "markdown",
      "metadata": {
        "id": "view-in-github",
        "colab_type": "text"
      },
      "source": [
        "<a href=\"https://colab.research.google.com/github/vicctoriia/web_scraping_the_sopranos/blob/main/web_scraping_the_sopranos.ipynb\" target=\"_parent\"><img src=\"https://colab.research.google.com/assets/colab-badge.svg\" alt=\"Open In Colab\"/></a>"
      ]
    },
    {
      "cell_type": "markdown",
      "metadata": {
        "id": "Kjb_78ItL7EO"
      },
      "source": [
        "## WEB SCRAPING + DATA CLEANING: 'THE SOPRANOS'"
      ]
    },
    {
      "cell_type": "code",
      "metadata": {
        "id": "0XrGkj1THTsP"
      },
      "source": [
        "#Imports from libraries\n",
        "import numpy as np\n",
        "import pandas as pd\n",
        "#pd.set_option(\"display.max_rows\", None)\n",
        "import re\n",
        "import requests \n",
        "from requests import get  #requisicoes HTTP (obter o codigo html)\n",
        "from bs4 import BeautifulSoup #extrair dados do HTML\n",
        "from pandas.io.formats.style import Styler\n",
        "from jinja2 import Environment, ChoiceLoader, FileSystemLoader\n",
        "from IPython.display import HTML\n",
        "import seaborn as sns\n",
        "import matplotlib.pyplot as plt"
      ],
      "execution_count": 1,
      "outputs": []
    },
    {
      "cell_type": "markdown",
      "metadata": {
        "id": "bqsL7NBbO__m"
      },
      "source": [
        "## Web scraping - IMDb"
      ]
    },
    {
      "cell_type": "code",
      "metadata": {
        "colab": {
          "base_uri": "https://localhost:8080/"
        },
        "id": "zZZrlM433vvA",
        "outputId": "43b06608-22c2-4482-cb69-c9803c6591b4"
      },
      "source": [
        "# specifying the URL containing the dataset \n",
        "url = 'https://www.imdb.com/title/tt0141842/episodes?season=1'\n",
        "response = get(url)\n",
        "print(response.text[:250])"
      ],
      "execution_count": 2,
      "outputs": [
        {
          "output_type": "stream",
          "name": "stdout",
          "text": [
            "\n",
            " \n",
            "\n",
            "\n",
            "\n",
            "\n",
            "\n",
            "\n",
            "\n",
            "\n",
            "\n",
            "\n",
            "<!DOCTYPE html>\n",
            "<html\n",
            "    xmlns:og=\"http://ogp.me/ns#\"\n",
            "    xmlns:fb=\"http://www.facebook.com/2008/fbml\">\n",
            "    <head>\n",
            "         \n",
            "\n",
            "        <meta charset=\"utf-8\">\n",
            "        <meta http-equiv=\"X-UA-Compatible\" content=\"IE=edge\">\n",
            "\n",
            "\n",
            "\n",
            "\n",
            "        <scri\n"
          ]
        }
      ]
    },
    {
      "cell_type": "markdown",
      "metadata": {
        "id": "LquFKP5uQar-"
      },
      "source": [
        " **Extracting  hyperlinks within the webpage**"
      ]
    },
    {
      "cell_type": "code",
      "metadata": {
        "id": "AIY70-8p3_HW"
      },
      "source": [
        "html_soup = BeautifulSoup(response.text, 'html.parser')"
      ],
      "execution_count": 3,
      "outputs": []
    },
    {
      "cell_type": "code",
      "metadata": {
        "id": "pVozbG9L5B1b"
      },
      "source": [
        "episode_containers = html_soup.find_all('div', class_='info') "
      ],
      "execution_count": 4,
      "outputs": []
    },
    {
      "cell_type": "markdown",
      "metadata": {
        "id": "hrge34NMBNmI"
      },
      "source": [
        "**Example: Getting data from S01E01**"
      ]
    },
    {
      "cell_type": "code",
      "metadata": {
        "colab": {
          "base_uri": "https://localhost:8080/",
          "height": 35
        },
        "id": "PNOrVGJ85Jsh",
        "outputId": "bb7aa7a0-d9e7-4d89-cd67-3a48d2540c86"
      },
      "source": [
        "episode_containers[0].a['title']  "
      ],
      "execution_count": 5,
      "outputs": [
        {
          "output_type": "execute_result",
          "data": {
            "application/vnd.google.colaboratory.intrinsic+json": {
              "type": "string"
            },
            "text/plain": [
              "'Pilot'"
            ]
          },
          "metadata": {},
          "execution_count": 5
        }
      ]
    },
    {
      "cell_type": "code",
      "metadata": {
        "colab": {
          "base_uri": "https://localhost:8080/",
          "height": 35
        },
        "id": "FW15RGuI6HLJ",
        "outputId": "e02a0163-7529-41da-962d-e80683d4be01"
      },
      "source": [
        "episode_containers[0].meta['content'] "
      ],
      "execution_count": 6,
      "outputs": [
        {
          "output_type": "execute_result",
          "data": {
            "application/vnd.google.colaboratory.intrinsic+json": {
              "type": "string"
            },
            "text/plain": [
              "'1'"
            ]
          },
          "metadata": {},
          "execution_count": 6
        }
      ]
    },
    {
      "cell_type": "code",
      "metadata": {
        "colab": {
          "base_uri": "https://localhost:8080/",
          "height": 35
        },
        "id": "l3fvPDXM6a7F",
        "outputId": "8d95607b-587f-4474-8fc6-a2b5b9072671"
      },
      "source": [
        "episode_containers[0].find('span', class_='ipl-rating-star__rating').text.strip()  #Nota IMDB"
      ],
      "execution_count": 7,
      "outputs": [
        {
          "output_type": "execute_result",
          "data": {
            "application/vnd.google.colaboratory.intrinsic+json": {
              "type": "string"
            },
            "text/plain": [
              "'8.5'"
            ]
          },
          "metadata": {},
          "execution_count": 7
        }
      ]
    },
    {
      "cell_type": "code",
      "metadata": {
        "colab": {
          "base_uri": "https://localhost:8080/",
          "height": 35
        },
        "id": "vqz6ViPP6zAZ",
        "outputId": "63e90da7-1706-4ebb-f712-5526f3c89f6c"
      },
      "source": [
        "episode_containers[0].find('span', class_='ipl-rating-star__total-votes').text.strip()  #Total de votos"
      ],
      "execution_count": 8,
      "outputs": [
        {
          "output_type": "execute_result",
          "data": {
            "application/vnd.google.colaboratory.intrinsic+json": {
              "type": "string"
            },
            "text/plain": [
              "'(8,050)'"
            ]
          },
          "metadata": {},
          "execution_count": 8
        }
      ]
    },
    {
      "cell_type": "code",
      "metadata": {
        "colab": {
          "base_uri": "https://localhost:8080/",
          "height": 35
        },
        "id": "jlWEqzAq7JFw",
        "outputId": "caf851dd-3bf3-4572-9f40-0ab317a2c114"
      },
      "source": [
        "episode_containers[0].find('div', class_='item_description').text.strip()  #Descrição do episódio"
      ],
      "execution_count": 9,
      "outputs": [
        {
          "output_type": "execute_result",
          "data": {
            "application/vnd.google.colaboratory.intrinsic+json": {
              "type": "string"
            },
            "text/plain": [
              "'A mobster passes out at a family barbecue and seeks therapy to understand why.'"
            ]
          },
          "metadata": {},
          "execution_count": 9
        }
      ]
    },
    {
      "cell_type": "markdown",
      "metadata": {
        "id": "ZwjjD4EMQpkz"
      },
      "source": [
        "**Selecting information for each episode in each season**"
      ]
    },
    {
      "cell_type": "code",
      "metadata": {
        "id": "PgWROPFV7eXi"
      },
      "source": [
        "sopranos_episodes = []\n",
        "\n",
        "\n",
        "for sn in range(1,7):\n",
        "\n",
        "    response = get('https://www.imdb.com/title/tt0141842/episodes?season=' + str(sn))\n",
        "\n",
        "\n",
        "    page_html = BeautifulSoup(response.text, 'html.parser')\n",
        "\n",
        "\n",
        "    episode_containers = page_html.find_all('div', class_ = 'info')\n",
        "\n",
        "\n",
        "    for episodes in episode_containers:\n",
        "\n",
        "            season = sn\n",
        "            episode_number = episodes.meta['content']\n",
        "            title = episodes.a['title']\n",
        "            airdate = episodes.find('div', class_='airdate').text.strip()\n",
        "            rating = episodes.find('span', class_='ipl-rating-star__rating').text\n",
        "            total_votes = episodes.find('span', class_='ipl-rating-star__total-votes').text\n",
        "            desc = episodes.find('div', class_='item_description').text.strip()\n",
        "\n",
        "            episode_data = [season, episode_number, title, airdate, rating, total_votes, desc]\n",
        "\n",
        "            sopranos_episodes.append(episode_data)"
      ],
      "execution_count": 10,
      "outputs": []
    },
    {
      "cell_type": "code",
      "metadata": {
        "colab": {
          "base_uri": "https://localhost:8080/"
        },
        "id": "6KkKwe9b8PZr",
        "outputId": "a76bcdbd-047a-4ed2-9ed9-648b28ac58ea"
      },
      "source": [
        "sopranos_episodes  #take a look"
      ],
      "execution_count": 11,
      "outputs": [
        {
          "output_type": "execute_result",
          "data": {
            "text/plain": [
              "[[1,\n",
              "  '1',\n",
              "  'Pilot',\n",
              "  '10 Jan. 1999',\n",
              "  '8.5',\n",
              "  '(8,050)',\n",
              "  'A mobster passes out at a family barbecue and seeks therapy to understand why.'],\n",
              " [1,\n",
              "  '2',\n",
              "  '46 Long',\n",
              "  '17 Jan. 1999',\n",
              "  '8.4',\n",
              "  '(6,567)',\n",
              "  \"Tony is getting fed up with his mother. Brendan Filone acts against Tony's wishes. Salvatore and Paulie try to track down A.J.'s teacher's stolen car.\"],\n",
              " [1,\n",
              "  '3',\n",
              "  'Denial, Anger, Acceptance',\n",
              "  '24 Jan. 1999',\n",
              "  '8.7',\n",
              "  '(6,394)',\n",
              "  \"Tony encourages an unwanted son-in-law to divorce, Carmela learns another secret of Tony's, Meadow experiments with speed to study for the SATs, and Chris and Brendan find out the price of disrespecting Junior.\"],\n",
              " [1,\n",
              "  '4',\n",
              "  'Meadowlands',\n",
              "  '31 Jan. 1999',\n",
              "  '8.7',\n",
              "  '(6,182)',\n",
              "  \"Jackie's death leaves a power vacuum, Brendan's death leaves Chris fearing for his life, and Anthony's discovery of what his father really does leaves him confused.\"],\n",
              " [1,\n",
              "  '5',\n",
              "  'College',\n",
              "  '7 Feb. 1999',\n",
              "  '9.0',\n",
              "  '(6,969)',\n",
              "  'While visiting colleges with Meadow, Tony spots a snitch. Carmela, meanwhile, discovers something about Dr. Melfi.'],\n",
              " [1,\n",
              "  '6',\n",
              "  'Pax Soprana',\n",
              "  '14 Feb. 1999',\n",
              "  '8.6',\n",
              "  '(5,872)',\n",
              "  \"Tony tries to balance Junior against the other capos, while Carmela reasserts herself as the woman in Tony's life.\"],\n",
              " [1,\n",
              "  '7',\n",
              "  'Down Neck',\n",
              "  '21 Feb. 1999',\n",
              "  '8.5',\n",
              "  '(5,683)',\n",
              "  'Anthony has disciplinary problems at school, prompting Tony to recount memories of his childhood with Dr. Melfi.'],\n",
              " [1,\n",
              "  '8',\n",
              "  'The Legend of Tennessee Moltisanti',\n",
              "  '28 Feb. 1999',\n",
              "  '8.7',\n",
              "  '(5,733)',\n",
              "  \"The FBI begins closing in on the DiMeo family. Tony and Carmela are angry over all the attention Italians get from the authorities, while Chris fumes that he's not getting enough attention.\"],\n",
              " [1,\n",
              "  '9',\n",
              "  'Boca',\n",
              "  '7 Mar. 1999',\n",
              "  '8.6',\n",
              "  '(5,657)',\n",
              "  \"The capos discuss what to do about the local soccer coach, while Junior's mouth causes him some embarrassment.\"],\n",
              " [1,\n",
              "  '10',\n",
              "  'A Hit Is a Hit',\n",
              "  '14 Mar. 1999',\n",
              "  '8.0',\n",
              "  '(5,582)',\n",
              "  'Tony tries to branch out into legitimate investments, while Chris and Adriana decide to try their hands at music production.'],\n",
              " [1,\n",
              "  '11',\n",
              "  'Nobody Knows Anything',\n",
              "  '21 Mar. 1999',\n",
              "  '8.8',\n",
              "  '(5,569)',\n",
              "  'Following the arrest of two of his men, Tony suspects a traitor. Efforts to discover who, however, are stymied.'],\n",
              " [1,\n",
              "  '12',\n",
              "  'Isabella',\n",
              "  '28 Mar. 1999',\n",
              "  '9.2',\n",
              "  '(6,089)',\n",
              "  \"The stress Tony is going through begins to take its toll, and the hit Junior has ordered doesn't help.\"],\n",
              " [1,\n",
              "  '13',\n",
              "  'I Dream of Jeannie Cusamano',\n",
              "  '4 Apr. 1999',\n",
              "  '9.2',\n",
              "  '(6,048)',\n",
              "  'Tony starts cleaning house, while Artie feels torn between keeping the peace in his household, and getting even with Tony for destroying his restaurant.'],\n",
              " [2,\n",
              "  '1',\n",
              "  \"Guy Walks Into a Psychiatrist's Office\",\n",
              "  '16 Jan. 2000',\n",
              "  '8.3',\n",
              "  '(5,238)',\n",
              "  \"Pussy returns after months in hiding, Chris starts a boiler room stock operation, and Tony's long-lost sister shows up on the doorstep.\"],\n",
              " [2,\n",
              "  '2',\n",
              "  'Do Not Resuscitate',\n",
              "  '23 Jan. 2000',\n",
              "  '8.2',\n",
              "  '(5,060)',\n",
              "  \"Junior leaves prison due to ill health and placed under house arrest, while Livia's health also declines. Pussy begins talking with someone interested in learning more about Tony.\"],\n",
              " [2,\n",
              "  '3',\n",
              "  'Toodle-Fucking-Oo',\n",
              "  '30 Jan. 2000',\n",
              "  '8.5',\n",
              "  '(5,047)',\n",
              "  \"Richie Aprile gets out after ten years in prison and starts reasserting his authority while unaware of the changes made in the crime family's archetype. Meadow gets in trouble after a party gets out of hand.\"],\n",
              " [2,\n",
              "  '4',\n",
              "  'Commendatori',\n",
              "  '6 Feb. 2000',\n",
              "  '8.6',\n",
              "  '(5,401)',\n",
              "  'Tony, Paulie and Chris travel to Naples to conduct a business deal, while Pussy becomes more stressed over trying to balance his secret lives.'],\n",
              " [2,\n",
              "  '5',\n",
              "  \"Big Girls Don't Cry\",\n",
              "  '13 Feb. 2000',\n",
              "  '8.6',\n",
              "  '(5,006)',\n",
              "  'Paulie and Silvio get promoted, Furio gets welcomed, Pussy gets pushed aside, and Chris gets frustrated with his Hollywood aspirations.'],\n",
              " [2,\n",
              "  '6',\n",
              "  'The Happy Wanderer',\n",
              "  '20 Feb. 2000',\n",
              "  '8.7',\n",
              "  '(5,084)',\n",
              "  \"Tony's old school friend digs himself into trouble with his gambling, while Tony's family problems only continue to grow.\"],\n",
              " [2,\n",
              "  '7',\n",
              "  'D-Girl',\n",
              "  '27 Feb. 2000',\n",
              "  '8.7',\n",
              "  '(5,256)',\n",
              "  \"Anthony continues to cause problems at home, while Pussy's divided loyalties cause him greater anguish.\"],\n",
              " [2,\n",
              "  '8',\n",
              "  'Full Leather Jacket',\n",
              "  '5 Mar. 2000',\n",
              "  '8.9',\n",
              "  '(5,147)',\n",
              "  \"Rebellion by some of the lower soldiers ends in bloodshed, while Carmela starts intimidating her neighbors to help Meadow's chances at Georgetown.\"],\n",
              " [2,\n",
              "  '9',\n",
              "  'From Where to Eternity',\n",
              "  '12 Mar. 2000',\n",
              "  '8.8',\n",
              "  '(5,095)',\n",
              "  'Chris awakens from his coma with a message for Tony and Paulie. Carmela, meanwhile, wants Tony to take a cut.'],\n",
              " [2,\n",
              "  '10',\n",
              "  'Bust-Out',\n",
              "  '19 Mar. 2000',\n",
              "  '8.5',\n",
              "  '(4,804)',\n",
              "  \"Tony continues putting the squeeze on David, while Richie discusses the possibility with Junior of removing some competition while 'Big Pussy' Bonpensiero continues to be an informant.\"],\n",
              " [2,\n",
              "  '11',\n",
              "  'House Arrest',\n",
              "  '26 Mar. 2000',\n",
              "  '8.3',\n",
              "  '(4,793)',\n",
              "  'Junior feels the restrictions of his house arrest acutely, while Tony starts putting in hours at his actual job to allay FBI suspicions, while Junior and Richie uses the garbage pick up routes for a double purpose.'],\n",
              " [2,\n",
              "  '12',\n",
              "  'The Knight in White Satin Armor',\n",
              "  '2 Apr. 2000',\n",
              "  '9.4',\n",
              "  '(5,777)',\n",
              "  \"Richie and Janice get engaged, but Richie's violent temper finally takes him too far. Tony, meanwhile, breaks up with Irina, much to her dismay.\"],\n",
              " [2,\n",
              "  '13',\n",
              "  'Funhouse',\n",
              "  '9 Apr. 2000',\n",
              "  '9.4',\n",
              "  '(6,320)',\n",
              "  \"Tony gets sick from food poisoning and blames Artie's restaurant. Pussy, meanwhile, reaches the end of the line.\"],\n",
              " [3,\n",
              "  '1',\n",
              "  \"Mr. Ruggerio's Neighborhood\",\n",
              "  '4 Mar. 2001',\n",
              "  '8.7',\n",
              "  '(5,075)',\n",
              "  'The FBI has trouble finding a new informant, so they attempt to bug the Soprano home. Meanwhile, Anthony continues to get into trouble at school.'],\n",
              " [3,\n",
              "  '2',\n",
              "  'Proshai, Livushka',\n",
              "  '4 Mar. 2001',\n",
              "  '8.7',\n",
              "  '(4,996)',\n",
              "  'Livia dies of a stroke, bringing the family together one more time for the funeral where old tensions resurface.'],\n",
              " [3,\n",
              "  '3',\n",
              "  'Fortunate Son',\n",
              "  '11 Mar. 2001',\n",
              "  '8.5',\n",
              "  '(4,694)',\n",
              "  \"Chris becomes a made man, while Tony experiences another panic attack. Meadow continues to seethe over Tony's treatment of her boyfriend.\"],\n",
              " [3,\n",
              "  '4',\n",
              "  'Employee of the Month',\n",
              "  '18 Mar. 2001',\n",
              "  '9.1',\n",
              "  '(5,490)',\n",
              "  'Dr. Melfi is brutally attacked, and when the justice system lets her down, she must consider asking Tony for help.'],\n",
              " [3,\n",
              "  '5',\n",
              "  'Another Toothpick',\n",
              "  '25 Mar. 2001',\n",
              "  '8.7',\n",
              "  '(4,796)',\n",
              "  'Tony and Carmela try a therapy session together, which ends in an angry dispute. Artie, meanwhile, tries to move in on Adriana.'],\n",
              " [3,\n",
              "  '6',\n",
              "  'University',\n",
              "  '1 Apr. 2001',\n",
              "  '8.8',\n",
              "  '(5,085)',\n",
              "  \"Noah and Meadow's relationship is disrupted by her roommate, while Ralphie starts getting rough with one of the strippers from the Bada Bing causing Tony to intervene and questionably violating one of the mafia codes of conduct.\"],\n",
              " [3,\n",
              "  '7',\n",
              "  'Second Opinion',\n",
              "  '8 Apr. 2001',\n",
              "  '8.5',\n",
              "  '(4,597)',\n",
              "  'Junior continues his cancer treatments, but the prognosis is iffy. Chris, meanwhile, finds himself under suspicion from Paulie.'],\n",
              " [3,\n",
              "  '8',\n",
              "  'He Is Risen',\n",
              "  '15 Apr. 2001',\n",
              "  '8.4',\n",
              "  '(4,532)',\n",
              "  \"Tensions rise between Tony and Ralphie until circumstances demand that they resolve their differences. Meadow gets involved with Jackie's son, and ends up in trouble.\"],\n",
              " [3,\n",
              "  '9',\n",
              "  'The Telltale Moozadell',\n",
              "  '22 Apr. 2001',\n",
              "  '8.2',\n",
              "  '(4,518)',\n",
              "  \"Tony continues seeing Gloria, another of Dr. Melfi's patients, while Meadow continues seeing Jackie Jr.\"],\n",
              " [3,\n",
              "  '10',\n",
              "  \"To Save Us All from Satan's Power\",\n",
              "  '29 Apr. 2001',\n",
              "  '8.5',\n",
              "  '(4,622)',\n",
              "  \"Tony starts having flashbacks about Pussy's betrayal, and then later discovers that Jackie Jr. has been failing in his responsibilities.\"],\n",
              " [3,\n",
              "  '11',\n",
              "  'Pine Barrens',\n",
              "  '6 May 2001',\n",
              "  '9.7',\n",
              "  '(10,139)',\n",
              "  \"While Silvio has the flu, Chris and Paulie run his collections for him, which results in the pair getting lost in the woods and nearly freezing to death while Tony's affair with Gloria goes sour as does Meadow's relationship with Jackie Jr.\"],\n",
              " [3,\n",
              "  '12',\n",
              "  'Amour Fou',\n",
              "  '13 May 2001',\n",
              "  '9.2',\n",
              "  '(5,179)',\n",
              "  'Gloria grows increasingly demanding until Tony realizes who she is, and Jackie Jr. ends up in very serious trouble when Chris realizes who he is.'],\n",
              " [3,\n",
              "  '13',\n",
              "  'Army of One',\n",
              "  '20 May 2001',\n",
              "  '9.1',\n",
              "  '(5,075)',\n",
              "  'Ralphie issues his final decision on the fate of Jackie Jr., Anthony Jr., faces military school after getting expelled, Paulie and Ralphie have a financial conflict while the FBI assigns Adriana a new \"friend.\"'],\n",
              " [4,\n",
              "  '1',\n",
              "  'For All Debts Public and Private',\n",
              "  '15 Sep. 2002',\n",
              "  '8.3',\n",
              "  '(4,536)',\n",
              "  'Chris puts a ghost from his past to rest, while Carmela grows uneasy about her future.'],\n",
              " [4,\n",
              "  '2',\n",
              "  'No Show',\n",
              "  '22 Sep. 2002',\n",
              "  '8.3',\n",
              "  '(4,428)',\n",
              "  \"Chris' success earns him some jealousy, Adriana learns the truth about her friend, and Meadow still claims that Jackie Jr.'s death still weighs heavily on her.\"],\n",
              " [4,\n",
              "  '3',\n",
              "  'Christopher',\n",
              "  '29 Sep. 2002',\n",
              "  '7.9',\n",
              "  '(4,687)',\n",
              "  'Columbus Day ignites tensions between Italians and Native Americans, and Bobby receives devastating news about his wife.'],\n",
              " [4,\n",
              "  '4',\n",
              "  'The Weight',\n",
              "  '6 Oct. 2002',\n",
              "  '8.5',\n",
              "  '(4,530)',\n",
              "  'A joke sparks a series of hit contracts, while Carmela finds herself happier than perhaps she should be that Furio will be around for good.'],\n",
              " [4,\n",
              "  '5',\n",
              "  'Pie-o-My',\n",
              "  '13 Oct. 2002',\n",
              "  '8.2',\n",
              "  '(4,406)',\n",
              "  'Ralph buys a racehorse, but Tony ends up more attached to it than Ralphie is. Carmela starts trying to invest in her future.'],\n",
              " [4,\n",
              "  '6',\n",
              "  'Everybody Hurts',\n",
              "  '20 Oct. 2002',\n",
              "  '8.4',\n",
              "  '(4,448)',\n",
              "  \"Tony feels depressed over the negative impact he has on people who don't deserve it, while Carmela tries to set up Furio with a friend, AJ is uncomfortable with his girlfriend's wealth, Artie attempts a new business venture.\"],\n",
              " [4,\n",
              "  '7',\n",
              "  'Watching Too Much Television',\n",
              "  '27 Oct. 2002',\n",
              "  '8.2',\n",
              "  '(4,334)',\n",
              "  'Adriana learns that life is not like TV shows, while Tony discovers that a former girlfriend has moved on, along with Ralphie and others they scam the Department of Housing and Urban Development.'],\n",
              " [4,\n",
              "  '8',\n",
              "  'Mergers and Acquisitions',\n",
              "  '3 Nov. 2002',\n",
              "  '8.2',\n",
              "  '(4,293)',\n",
              "  \"Paulie has to take care of some rough relationships for his mother, while Tony's fancy for a fellow horse fancier lands him in trouble with Carmela.\"],\n",
              " [4,\n",
              "  '9',\n",
              "  'Whoever Did This',\n",
              "  '10 Nov. 2002',\n",
              "  '9.3',\n",
              "  '(5,456)',\n",
              "  \"Ralph's callous behavior finally steps over the line, while Chris gets deeper into his heroin addiction and Uncle Junior's mental capacity begins to become in question.\"],\n",
              " [4,\n",
              "  '10',\n",
              "  'The Strong, Silent Type',\n",
              "  '17 Nov. 2002',\n",
              "  '8.9',\n",
              "  '(4,650)',\n",
              "  'In the midst of suspicions that he killed Ralph, Tony tries to intervene to get Chris clean and sober.'],\n",
              " [4,\n",
              "  '11',\n",
              "  'Calling All Cars',\n",
              "  '24 Nov. 2002',\n",
              "  '8.1',\n",
              "  '(4,247)',\n",
              "  \"Tony's dreams seem to tell him where his life is headed, but he still feels as though he's out of control.\"],\n",
              " [4,\n",
              "  '12',\n",
              "  'Eloise',\n",
              "  '1 Dec. 2002',\n",
              "  '8.3',\n",
              "  '(4,271)',\n",
              "  \"Carmela and Furio grow too close for safety, while Paulie discovers that he's not as big a fish as he thought he was.\"],\n",
              " [4,\n",
              "  '13',\n",
              "  'Whitecaps',\n",
              "  '8 Dec. 2002',\n",
              "  '9.3',\n",
              "  '(5,644)',\n",
              "  \"Junior's trial comes to an end, but Tony's trials are just getting underway. Also, the Sopranos almost purchase a house on the beach.\"],\n",
              " [5,\n",
              "  '1',\n",
              "  'Two Tonys',\n",
              "  '7 Mar. 2004',\n",
              "  '8.7',\n",
              "  '(4,458)',\n",
              "  \"Some of the old guards are released from prison and want to get back in the action. Chris and Paulie are at each other's throats over matters of money and respect, and Tony decides to tell Dr. Melfi what's really on his mind.\"],\n",
              " [5,\n",
              "  '2',\n",
              "  'Rat Pack',\n",
              "  '14 Mar. 2004',\n",
              "  '8.5',\n",
              "  '(4,259)',\n",
              "  \"Carmine's passing opens new wounds, while cousin Tony wants to put his past behind him. Tony Soprano, meanwhile, discovers a traitor.\"],\n",
              " [5,\n",
              "  '3',\n",
              "  \"Where's Johnny?\",\n",
              "  '21 Mar. 2004',\n",
              "  '8.7',\n",
              "  '(4,363)',\n",
              "  \"With Carmine's passing and Feech's arrival, turf wars are breaking out around New Jersey. Junior's mental health, meanwhile, starts to decline.\"],\n",
              " [5,\n",
              "  '4',\n",
              "  'All Happy Families',\n",
              "  '28 Mar. 2004',\n",
              "  '8.6',\n",
              "  '(4,269)',\n",
              "  \"Feech makes a pain of himself by trying to return to his past glory. Carmela tries to work with Anthony's teacher to rein in their out-of-control son.\"],\n",
              " [5,\n",
              "  '5',\n",
              "  'Irregular Around the Margins',\n",
              "  '4 Apr. 2004',\n",
              "  '9.3',\n",
              "  '(5,088)',\n",
              "  'A car crash puts Tony and Adriana in a compromising position, and Cousin Tony tries to keep Chris from getting the wrong impression and the wrong information.'],\n",
              " [5,\n",
              "  '6',\n",
              "  'Sentimental Education',\n",
              "  '11 Apr. 2004',\n",
              "  '8.3',\n",
              "  '(4,196)',\n",
              "  'Carmela has another furtive romance collapse, while Tony B. throws away a chance to turn his life around.'],\n",
              " [5,\n",
              "  '7',\n",
              "  'In Camelot',\n",
              "  '18 Apr. 2004',\n",
              "  '8.1',\n",
              "  '(4,298)',\n",
              "  \"Tony learns about his father through the man's mistress, while Chris' friend learns that there are habits more harmful to your health than heroin.\"],\n",
              " [5,\n",
              "  '8',\n",
              "  'Marco Polo',\n",
              "  '25 Apr. 2004',\n",
              "  '8.8',\n",
              "  '(4,430)',\n",
              "  'An uncomfortable party leads Tony and Carmela to a partial reconciliation, while cousin Tony gets an offer he decides not to refuse.'],\n",
              " [5,\n",
              "  '9',\n",
              "  'Unidentified Black Males',\n",
              "  '2 May 2004',\n",
              "  '8.9',\n",
              "  '(4,429)',\n",
              "  'Tony finds out that his cousin wants a bigger share of responsibilities, while Finn makes an embarrassing discovery about Vito.'],\n",
              " [5,\n",
              "  '10',\n",
              "  'Cold Cuts',\n",
              "  '9 May 2004',\n",
              "  '8.7',\n",
              "  '(4,399)',\n",
              "  'Chris and cousin Tony do some digging to make sure old secrets stay buried, while Janice puts her marriage in jeopardy with her fierce temper.'],\n",
              " [5,\n",
              "  '11',\n",
              "  'The Test Dream',\n",
              "  '16 May 2004',\n",
              "  '8.7',\n",
              "  '(5,361)',\n",
              "  'Cousin Tony heads off to avenge the death of his good friend, while a dream reveals to Tony what he must do to prevent a full-scale war.'],\n",
              " [5,\n",
              "  '12',\n",
              "  'Long Term Parking',\n",
              "  '23 May 2004',\n",
              "  '9.7',\n",
              "  '(6,522)',\n",
              "  'Tony makes a request to Johnny Sack on behalf of his cousin, and Adriana makes a request to the FBI, followed by one to Chris.'],\n",
              " [5,\n",
              "  '13',\n",
              "  'All Due Respect',\n",
              "  '6 Jun. 2004',\n",
              "  '9.3',\n",
              "  '(4,881)',\n",
              "  'Tony realizes that he must take care of family messes himself in order to keep the peace within his own clan.'],\n",
              " [6,\n",
              "  '1',\n",
              "  'Members Only',\n",
              "  '12 Mar. 2006',\n",
              "  '9.2',\n",
              "  '(5,109)',\n",
              "  \"Gene Pontecorvo makes a final break from the mob life, while Junior's paranoid delusions could be the end of Tony.\"],\n",
              " [6,\n",
              "  '2',\n",
              "  'Join the Club',\n",
              "  '19 Mar. 2006',\n",
              "  '8.8',\n",
              "  '(4,827)',\n",
              "  \"The family tries to cope with Tony's hospitalization and deteriorating condition, while Tony begins to hallucinate a new life parallel to his own.\"],\n",
              " [6,\n",
              "  '3',\n",
              "  'Mayham',\n",
              "  '26 Mar. 2006',\n",
              "  '8.8',\n",
              "  '(4,635)',\n",
              "  'While the gang begins to turn on itself, Tony finds himself at the threshold, while Christopher gives another try to enter the movie business, however this time as a producer rather than a screenwriter.'],\n",
              " [6,\n",
              "  '4',\n",
              "  'The Fleshy Part of the Thigh',\n",
              "  '2 Apr. 2006',\n",
              "  '8.5',\n",
              "  '(4,323)',\n",
              "  'Tony goes home and returns to business, perhaps with a new frame of mind. Paulie receives a shock about his mother.'],\n",
              " [6,\n",
              "  '5',\n",
              "  'Mr. & Mrs. John Sacrimoni Request',\n",
              "  '9 Apr. 2006',\n",
              "  '8.8',\n",
              "  '(4,461)',\n",
              "  \"Johnny Sack is granted permission to attend his daughter's wedding. Tony improves his personal security and Vito's secret double life is exposed.\"],\n",
              " [6,\n",
              "  '6',\n",
              "  'Live Free or Die',\n",
              "  '16 Apr. 2006',\n",
              "  '8.6',\n",
              "  '(4,253)',\n",
              "  'Tony hires help from overseas to fulfill a favor he was asked for by Johnny Sack and decides if one of his top earners deserves a second chance as he acknowledges to Dr. Melfi he was given a second chance when survived his gun shot wound.'],\n",
              " [6,\n",
              "  '7',\n",
              "  'Luxury Lounge',\n",
              "  '23 Apr. 2006',\n",
              "  '8.3',\n",
              "  '(4,315)',\n",
              "  \"Christopher and Carmine travel to Hollywood to take the next step in making their movie but quickly realize they're out of their depth. Artie feuds with Benny after his restaurant falls prey to one of Tony's scams.\"],\n",
              " [6,\n",
              "  '8',\n",
              "  'Johnny Cakes',\n",
              "  '30 Apr. 2006',\n",
              "  '8.4',\n",
              "  '(4,245)',\n",
              "  'Vito considers starting a new life in New Hampshire, while Anthony Jr. looking for a purpose and finds it when he continues his pursuit of revenge against Junior.'],\n",
              " [6,\n",
              "  '9',\n",
              "  'The Ride',\n",
              "  '7 May 2006',\n",
              "  '8.4',\n",
              "  '(4,262)',\n",
              "  'Paulie finds public opinion turned against him after an amusement ride accident. Christopher tries to start a new life as a husband and father.'],\n",
              " [6,\n",
              "  '10',\n",
              "  \"Moe n' Joe\",\n",
              "  '14 May 2006',\n",
              "  '8.2',\n",
              "  '(4,102)',\n",
              "  'Tony reflects on how growing up with Janice colors his attitudes now, while Vito tries to make a new life for himself in New Hampshire.'],\n",
              " [6,\n",
              "  '11',\n",
              "  'Cold Stones',\n",
              "  '21 May 2006',\n",
              "  '8.7',\n",
              "  '(4,345)',\n",
              "  \"Phil takes out his revenge on Vito, while Tony grows frustrated with Anthony Jr's lack of ambition or work ethic.\"],\n",
              " [6,\n",
              "  '12',\n",
              "  'Kaisha',\n",
              "  '4 Jun. 2006',\n",
              "  '8.3',\n",
              "  '(4,267)',\n",
              "  'Tony and Phil begin an explosive conflict that puts Phil in the hospital, while Christopher and Tony both embark on new romances with the same woman.'],\n",
              " [6,\n",
              "  '13',\n",
              "  'Soprano Home Movies',\n",
              "  '8 Apr. 2007',\n",
              "  '9.1',\n",
              "  '(5,044)',\n",
              "  \"Carmela and Tony go away to Bobby's cabin upstate New York for Tony's birthday up where a fight emerges between Tony and Bobby over Janice. Meanwhile A.J. is throwing a party at the Soprano home.\"],\n",
              " [6,\n",
              "  '14',\n",
              "  'Stage 5',\n",
              "  '15 Apr. 2007',\n",
              "  '8.9',\n",
              "  '(4,579)',\n",
              "  \"Johnny Sac finds out he only has 3 months to live. Meanwhile, 'Cleaver' premieres and is a hit, while Carmela has mixed emotions about it, saying too much of it is based on Tony.\"],\n",
              " [6,\n",
              "  '15',\n",
              "  'Remember When',\n",
              "  '22 Apr. 2007',\n",
              "  '8.6',\n",
              "  '(4,381)',\n",
              "  \"While forced to lay low in Miami, Tony begins to question Paulie's loyalty. Junior and Phil Leotardo both make moves to gain power in their respective territories.\"],\n",
              " [6,\n",
              "  '16',\n",
              "  'Chasing It',\n",
              "  '29 Apr. 2007',\n",
              "  '8.1',\n",
              "  '(4,272)',\n",
              "  'Tony hits an unlucky series of gambling losses, causing tension with both Carmela and Hesh. AJ and Blanca decide to make major changes in their relationship.'],\n",
              " [6,\n",
              "  '17',\n",
              "  'Walk Like a Man',\n",
              "  '6 May 2007',\n",
              "  '8.9',\n",
              "  '(4,543)',\n",
              "  \"Christopher's father-in-law is the unwitting catalyst of a new feud between Christopher and Paulie. AJ struggles with depression.\"],\n",
              " [6,\n",
              "  '18',\n",
              "  'Kennedy and Heidi',\n",
              "  '13 May 2007',\n",
              "  '9.2',\n",
              "  '(5,378)',\n",
              "  'Tony travels to Las Vegas after a tragedy occurs.'],\n",
              " [6,\n",
              "  '19',\n",
              "  'The Second Coming',\n",
              "  '20 May 2007',\n",
              "  '9.3',\n",
              "  '(5,037)',\n",
              "  'Tony fails to reason with Phil as more problems increase with Anthony Jr as his depression worsens.'],\n",
              " [6,\n",
              "  '20',\n",
              "  'The Blue Comet',\n",
              "  '3 Jun. 2007',\n",
              "  '9.6',\n",
              "  '(6,229)',\n",
              "  'The allegiance of those closest to Tony is put to the test. A case of mistaken identity has serious ramifications.'],\n",
              " [6,\n",
              "  '21',\n",
              "  'Made in America',\n",
              "  '10 Jun. 2007',\n",
              "  '9.3',\n",
              "  '(9,076)',\n",
              "  \"Tony and his family have to stay in hiding until Phil Leotardo is dealt with. His family doesn't like the lifestyle they have been forced to adopt. AJ and Meadow move onto the next step in their lives. Tony confronts Junior one last time.\"]]"
            ]
          },
          "metadata": {},
          "execution_count": 11
        }
      ]
    },
    {
      "cell_type": "code",
      "metadata": {
        "id": "lQAw4YgH8h1y",
        "colab": {
          "base_uri": "https://localhost:8080/",
          "height": 419
        },
        "outputId": "9d40a14c-2e4b-4a7e-c7b5-b8f3796f70e2"
      },
      "source": [
        "sopranos_episodes = pd.DataFrame(sopranos_episodes, columns = ['season', 'episode_number', 'title', 'airdate', 'rating', 'total_votes', 'desc'])  \n",
        "sopranos_episodes  #Converting to a pd.DataFrame"
      ],
      "execution_count": 12,
      "outputs": [
        {
          "output_type": "execute_result",
          "data": {
            "text/html": [
              "<div>\n",
              "<style scoped>\n",
              "    .dataframe tbody tr th:only-of-type {\n",
              "        vertical-align: middle;\n",
              "    }\n",
              "\n",
              "    .dataframe tbody tr th {\n",
              "        vertical-align: top;\n",
              "    }\n",
              "\n",
              "    .dataframe thead th {\n",
              "        text-align: right;\n",
              "    }\n",
              "</style>\n",
              "<table border=\"1\" class=\"dataframe\">\n",
              "  <thead>\n",
              "    <tr style=\"text-align: right;\">\n",
              "      <th></th>\n",
              "      <th>season</th>\n",
              "      <th>episode_number</th>\n",
              "      <th>title</th>\n",
              "      <th>airdate</th>\n",
              "      <th>rating</th>\n",
              "      <th>total_votes</th>\n",
              "      <th>desc</th>\n",
              "    </tr>\n",
              "  </thead>\n",
              "  <tbody>\n",
              "    <tr>\n",
              "      <th>0</th>\n",
              "      <td>1</td>\n",
              "      <td>1</td>\n",
              "      <td>Pilot</td>\n",
              "      <td>10 Jan. 1999</td>\n",
              "      <td>8.5</td>\n",
              "      <td>(8,050)</td>\n",
              "      <td>A mobster passes out at a family barbecue and ...</td>\n",
              "    </tr>\n",
              "    <tr>\n",
              "      <th>1</th>\n",
              "      <td>1</td>\n",
              "      <td>2</td>\n",
              "      <td>46 Long</td>\n",
              "      <td>17 Jan. 1999</td>\n",
              "      <td>8.4</td>\n",
              "      <td>(6,567)</td>\n",
              "      <td>Tony is getting fed up with his mother. Brenda...</td>\n",
              "    </tr>\n",
              "    <tr>\n",
              "      <th>2</th>\n",
              "      <td>1</td>\n",
              "      <td>3</td>\n",
              "      <td>Denial, Anger, Acceptance</td>\n",
              "      <td>24 Jan. 1999</td>\n",
              "      <td>8.7</td>\n",
              "      <td>(6,394)</td>\n",
              "      <td>Tony encourages an unwanted son-in-law to divo...</td>\n",
              "    </tr>\n",
              "    <tr>\n",
              "      <th>3</th>\n",
              "      <td>1</td>\n",
              "      <td>4</td>\n",
              "      <td>Meadowlands</td>\n",
              "      <td>31 Jan. 1999</td>\n",
              "      <td>8.7</td>\n",
              "      <td>(6,182)</td>\n",
              "      <td>Jackie's death leaves a power vacuum, Brendan'...</td>\n",
              "    </tr>\n",
              "    <tr>\n",
              "      <th>4</th>\n",
              "      <td>1</td>\n",
              "      <td>5</td>\n",
              "      <td>College</td>\n",
              "      <td>7 Feb. 1999</td>\n",
              "      <td>9.0</td>\n",
              "      <td>(6,969)</td>\n",
              "      <td>While visiting colleges with Meadow, Tony spot...</td>\n",
              "    </tr>\n",
              "    <tr>\n",
              "      <th>...</th>\n",
              "      <td>...</td>\n",
              "      <td>...</td>\n",
              "      <td>...</td>\n",
              "      <td>...</td>\n",
              "      <td>...</td>\n",
              "      <td>...</td>\n",
              "      <td>...</td>\n",
              "    </tr>\n",
              "    <tr>\n",
              "      <th>81</th>\n",
              "      <td>6</td>\n",
              "      <td>17</td>\n",
              "      <td>Walk Like a Man</td>\n",
              "      <td>6 May 2007</td>\n",
              "      <td>8.9</td>\n",
              "      <td>(4,543)</td>\n",
              "      <td>Christopher's father-in-law is the unwitting c...</td>\n",
              "    </tr>\n",
              "    <tr>\n",
              "      <th>82</th>\n",
              "      <td>6</td>\n",
              "      <td>18</td>\n",
              "      <td>Kennedy and Heidi</td>\n",
              "      <td>13 May 2007</td>\n",
              "      <td>9.2</td>\n",
              "      <td>(5,378)</td>\n",
              "      <td>Tony travels to Las Vegas after a tragedy occurs.</td>\n",
              "    </tr>\n",
              "    <tr>\n",
              "      <th>83</th>\n",
              "      <td>6</td>\n",
              "      <td>19</td>\n",
              "      <td>The Second Coming</td>\n",
              "      <td>20 May 2007</td>\n",
              "      <td>9.3</td>\n",
              "      <td>(5,037)</td>\n",
              "      <td>Tony fails to reason with Phil as more problem...</td>\n",
              "    </tr>\n",
              "    <tr>\n",
              "      <th>84</th>\n",
              "      <td>6</td>\n",
              "      <td>20</td>\n",
              "      <td>The Blue Comet</td>\n",
              "      <td>3 Jun. 2007</td>\n",
              "      <td>9.6</td>\n",
              "      <td>(6,229)</td>\n",
              "      <td>The allegiance of those closest to Tony is put...</td>\n",
              "    </tr>\n",
              "    <tr>\n",
              "      <th>85</th>\n",
              "      <td>6</td>\n",
              "      <td>21</td>\n",
              "      <td>Made in America</td>\n",
              "      <td>10 Jun. 2007</td>\n",
              "      <td>9.3</td>\n",
              "      <td>(9,076)</td>\n",
              "      <td>Tony and his family have to stay in hiding unt...</td>\n",
              "    </tr>\n",
              "  </tbody>\n",
              "</table>\n",
              "<p>86 rows × 7 columns</p>\n",
              "</div>"
            ],
            "text/plain": [
              "    season  ...                                               desc\n",
              "0        1  ...  A mobster passes out at a family barbecue and ...\n",
              "1        1  ...  Tony is getting fed up with his mother. Brenda...\n",
              "2        1  ...  Tony encourages an unwanted son-in-law to divo...\n",
              "3        1  ...  Jackie's death leaves a power vacuum, Brendan'...\n",
              "4        1  ...  While visiting colleges with Meadow, Tony spot...\n",
              "..     ...  ...                                                ...\n",
              "81       6  ...  Christopher's father-in-law is the unwitting c...\n",
              "82       6  ...  Tony travels to Las Vegas after a tragedy occurs.\n",
              "83       6  ...  Tony fails to reason with Phil as more problem...\n",
              "84       6  ...  The allegiance of those closest to Tony is put...\n",
              "85       6  ...  Tony and his family have to stay in hiding unt...\n",
              "\n",
              "[86 rows x 7 columns]"
            ]
          },
          "metadata": {},
          "execution_count": 12
        }
      ]
    },
    {
      "cell_type": "markdown",
      "metadata": {
        "id": "uHxPPe6p9r-4"
      },
      "source": [
        "## Web scraping - Wikipedia"
      ]
    },
    {
      "cell_type": "code",
      "metadata": {
        "colab": {
          "base_uri": "https://localhost:8080/"
        },
        "id": "beFSAkiyHta6",
        "outputId": "de853bbd-1dcd-44a8-fb44-bd79346249e9"
      },
      "source": [
        "# get the response in the form of html\n",
        "wikiurl=\"https://en.wikipedia.org/wiki/List_of_awards_and_nominations_received_by_The_Sopranos\"\n",
        "table_class=\"wikitable sortable plainrowheaders jquery-tablesorter\"\n",
        "response= requests.get(wikiurl)\n",
        "print(response.status_code)"
      ],
      "execution_count": 13,
      "outputs": [
        {
          "output_type": "stream",
          "name": "stdout",
          "text": [
            "200\n"
          ]
        }
      ]
    },
    {
      "cell_type": "code",
      "metadata": {
        "id": "gqXmy8XtIALa"
      },
      "source": [
        "# parse data from the html into a beautifulsoup object\n",
        "soup = BeautifulSoup(response.text, 'html.parser')\n",
        "\n",
        "table = soup.find('table',{'class':\"wikitable\"})"
      ],
      "execution_count": 14,
      "outputs": []
    },
    {
      "cell_type": "code",
      "metadata": {
        "colab": {
          "base_uri": "https://localhost:8080/",
          "height": 419
        },
        "id": "GwWOiMtrIEXP",
        "outputId": "22b5e6d9-5062-4688-aa0a-f5526cf2537e"
      },
      "source": [
        "df = pd.read_html(str(table))\n",
        "\n",
        "df = pd.DataFrame(df[0])\n",
        "df"
      ],
      "execution_count": 15,
      "outputs": [
        {
          "output_type": "execute_result",
          "data": {
            "text/html": [
              "<div>\n",
              "<style scoped>\n",
              "    .dataframe tbody tr th:only-of-type {\n",
              "        vertical-align: middle;\n",
              "    }\n",
              "\n",
              "    .dataframe tbody tr th {\n",
              "        vertical-align: top;\n",
              "    }\n",
              "\n",
              "    .dataframe thead th {\n",
              "        text-align: right;\n",
              "    }\n",
              "</style>\n",
              "<table border=\"1\" class=\"dataframe\">\n",
              "  <thead>\n",
              "    <tr style=\"text-align: right;\">\n",
              "      <th></th>\n",
              "      <th>Award</th>\n",
              "      <th>Year[a]</th>\n",
              "      <th>Category</th>\n",
              "      <th>Nominee(s)</th>\n",
              "      <th>Result</th>\n",
              "      <th>Ref.</th>\n",
              "    </tr>\n",
              "  </thead>\n",
              "  <tbody>\n",
              "    <tr>\n",
              "      <th>0</th>\n",
              "      <td>ALMA Awards</td>\n",
              "      <td>2001</td>\n",
              "      <td>Outstanding Actress in a Television Series</td>\n",
              "      <td>Jamie-Lynn Sigler</td>\n",
              "      <td>Nominated</td>\n",
              "      <td>[7]</td>\n",
              "    </tr>\n",
              "    <tr>\n",
              "      <th>1</th>\n",
              "      <td>ALMA Awards</td>\n",
              "      <td>2002</td>\n",
              "      <td>Outstanding Actress in a Television Series</td>\n",
              "      <td>Jamie-Lynn Sigler</td>\n",
              "      <td>Nominated</td>\n",
              "      <td>[8]</td>\n",
              "    </tr>\n",
              "    <tr>\n",
              "      <th>2</th>\n",
              "      <td>American Cinema Editors Awards</td>\n",
              "      <td>2000</td>\n",
              "      <td>Best Edited One-Hour Series for Television</td>\n",
              "      <td>William B. Stich (for \"I Dream of Jeannie Cusa...</td>\n",
              "      <td>Nominated</td>\n",
              "      <td>[9]</td>\n",
              "    </tr>\n",
              "    <tr>\n",
              "      <th>3</th>\n",
              "      <td>American Cinema Editors Awards</td>\n",
              "      <td>2001</td>\n",
              "      <td>Best Edited One-Hour Series for Television</td>\n",
              "      <td>Sidney Wolinsky (for \"Funhouse\")</td>\n",
              "      <td>Nominated</td>\n",
              "      <td>[10]</td>\n",
              "    </tr>\n",
              "    <tr>\n",
              "      <th>4</th>\n",
              "      <td>American Cinema Editors Awards</td>\n",
              "      <td>2002</td>\n",
              "      <td>Best Edited One-Hour Series for Television</td>\n",
              "      <td>Conrad Gonzalez (for \"Pine Barrens\")</td>\n",
              "      <td>Won</td>\n",
              "      <td>[11]</td>\n",
              "    </tr>\n",
              "    <tr>\n",
              "      <th>...</th>\n",
              "      <td>...</td>\n",
              "      <td>...</td>\n",
              "      <td>...</td>\n",
              "      <td>...</td>\n",
              "      <td>...</td>\n",
              "      <td>...</td>\n",
              "    </tr>\n",
              "    <tr>\n",
              "      <th>271</th>\n",
              "      <td>Writers Guild of America Awards</td>\n",
              "      <td>2003</td>\n",
              "      <td>Episodic Drama</td>\n",
              "      <td>Robin Green and Mitchell Burgess (for \"Whoever...</td>\n",
              "      <td>Nominated</td>\n",
              "      <td>[108]</td>\n",
              "    </tr>\n",
              "    <tr>\n",
              "      <th>272</th>\n",
              "      <td>Writers Guild of America Awards</td>\n",
              "      <td>2005</td>\n",
              "      <td>Episodic Drama</td>\n",
              "      <td>Terence Winter (for \"Long Term Parking\")</td>\n",
              "      <td>Nominated</td>\n",
              "      <td>[109]</td>\n",
              "    </tr>\n",
              "    <tr>\n",
              "      <th>273</th>\n",
              "      <td>Writers Guild of America Awards</td>\n",
              "      <td>2007</td>\n",
              "      <td>Dramatic Series</td>\n",
              "      <td>The Sopranos[Nom 37]</td>\n",
              "      <td>Won</td>\n",
              "      <td>[110]</td>\n",
              "    </tr>\n",
              "    <tr>\n",
              "      <th>274</th>\n",
              "      <td>Writers Guild of America Awards</td>\n",
              "      <td>2008</td>\n",
              "      <td>Dramatic Series</td>\n",
              "      <td>The Sopranos[Nom 38]</td>\n",
              "      <td>Nominated</td>\n",
              "      <td>[111]</td>\n",
              "    </tr>\n",
              "    <tr>\n",
              "      <th>275</th>\n",
              "      <td>Writers Guild of America Awards</td>\n",
              "      <td>2008</td>\n",
              "      <td>Episodic Drama</td>\n",
              "      <td>Terence Winter (for \"The Second Coming\")</td>\n",
              "      <td>Won</td>\n",
              "      <td>[111]</td>\n",
              "    </tr>\n",
              "  </tbody>\n",
              "</table>\n",
              "<p>276 rows × 6 columns</p>\n",
              "</div>"
            ],
            "text/plain": [
              "                               Award  Year[a]  ...     Result   Ref.\n",
              "0                        ALMA Awards     2001  ...  Nominated    [7]\n",
              "1                        ALMA Awards     2002  ...  Nominated    [8]\n",
              "2     American Cinema Editors Awards     2000  ...  Nominated    [9]\n",
              "3     American Cinema Editors Awards     2001  ...  Nominated   [10]\n",
              "4     American Cinema Editors Awards     2002  ...        Won   [11]\n",
              "..                               ...      ...  ...        ...    ...\n",
              "271  Writers Guild of America Awards     2003  ...  Nominated  [108]\n",
              "272  Writers Guild of America Awards     2005  ...  Nominated  [109]\n",
              "273  Writers Guild of America Awards     2007  ...        Won  [110]\n",
              "274  Writers Guild of America Awards     2008  ...  Nominated  [111]\n",
              "275  Writers Guild of America Awards     2008  ...        Won  [111]\n",
              "\n",
              "[276 rows x 6 columns]"
            ]
          },
          "metadata": {},
          "execution_count": 15
        }
      ]
    },
    {
      "cell_type": "markdown",
      "metadata": {
        "id": "3QKcd7XVL2Ec"
      },
      "source": [
        "## Data Cleaning"
      ]
    },
    {
      "cell_type": "markdown",
      "metadata": {
        "id": "JieGFH3orgvN"
      },
      "source": [
        "**First DataFrame - IMDb**"
      ]
    },
    {
      "cell_type": "code",
      "metadata": {
        "colab": {
          "base_uri": "https://localhost:8080/",
          "height": 419
        },
        "id": "_vC0kKZC2L34",
        "outputId": "5c2975f6-ff8f-497f-dc16-475d92c3de92"
      },
      "source": [
        "sopranos_episodes"
      ],
      "execution_count": 16,
      "outputs": [
        {
          "output_type": "execute_result",
          "data": {
            "text/html": [
              "<div>\n",
              "<style scoped>\n",
              "    .dataframe tbody tr th:only-of-type {\n",
              "        vertical-align: middle;\n",
              "    }\n",
              "\n",
              "    .dataframe tbody tr th {\n",
              "        vertical-align: top;\n",
              "    }\n",
              "\n",
              "    .dataframe thead th {\n",
              "        text-align: right;\n",
              "    }\n",
              "</style>\n",
              "<table border=\"1\" class=\"dataframe\">\n",
              "  <thead>\n",
              "    <tr style=\"text-align: right;\">\n",
              "      <th></th>\n",
              "      <th>season</th>\n",
              "      <th>episode_number</th>\n",
              "      <th>title</th>\n",
              "      <th>airdate</th>\n",
              "      <th>rating</th>\n",
              "      <th>total_votes</th>\n",
              "      <th>desc</th>\n",
              "    </tr>\n",
              "  </thead>\n",
              "  <tbody>\n",
              "    <tr>\n",
              "      <th>0</th>\n",
              "      <td>1</td>\n",
              "      <td>1</td>\n",
              "      <td>Pilot</td>\n",
              "      <td>10 Jan. 1999</td>\n",
              "      <td>8.5</td>\n",
              "      <td>(8,050)</td>\n",
              "      <td>A mobster passes out at a family barbecue and ...</td>\n",
              "    </tr>\n",
              "    <tr>\n",
              "      <th>1</th>\n",
              "      <td>1</td>\n",
              "      <td>2</td>\n",
              "      <td>46 Long</td>\n",
              "      <td>17 Jan. 1999</td>\n",
              "      <td>8.4</td>\n",
              "      <td>(6,567)</td>\n",
              "      <td>Tony is getting fed up with his mother. Brenda...</td>\n",
              "    </tr>\n",
              "    <tr>\n",
              "      <th>2</th>\n",
              "      <td>1</td>\n",
              "      <td>3</td>\n",
              "      <td>Denial, Anger, Acceptance</td>\n",
              "      <td>24 Jan. 1999</td>\n",
              "      <td>8.7</td>\n",
              "      <td>(6,394)</td>\n",
              "      <td>Tony encourages an unwanted son-in-law to divo...</td>\n",
              "    </tr>\n",
              "    <tr>\n",
              "      <th>3</th>\n",
              "      <td>1</td>\n",
              "      <td>4</td>\n",
              "      <td>Meadowlands</td>\n",
              "      <td>31 Jan. 1999</td>\n",
              "      <td>8.7</td>\n",
              "      <td>(6,182)</td>\n",
              "      <td>Jackie's death leaves a power vacuum, Brendan'...</td>\n",
              "    </tr>\n",
              "    <tr>\n",
              "      <th>4</th>\n",
              "      <td>1</td>\n",
              "      <td>5</td>\n",
              "      <td>College</td>\n",
              "      <td>7 Feb. 1999</td>\n",
              "      <td>9.0</td>\n",
              "      <td>(6,969)</td>\n",
              "      <td>While visiting colleges with Meadow, Tony spot...</td>\n",
              "    </tr>\n",
              "    <tr>\n",
              "      <th>...</th>\n",
              "      <td>...</td>\n",
              "      <td>...</td>\n",
              "      <td>...</td>\n",
              "      <td>...</td>\n",
              "      <td>...</td>\n",
              "      <td>...</td>\n",
              "      <td>...</td>\n",
              "    </tr>\n",
              "    <tr>\n",
              "      <th>81</th>\n",
              "      <td>6</td>\n",
              "      <td>17</td>\n",
              "      <td>Walk Like a Man</td>\n",
              "      <td>6 May 2007</td>\n",
              "      <td>8.9</td>\n",
              "      <td>(4,543)</td>\n",
              "      <td>Christopher's father-in-law is the unwitting c...</td>\n",
              "    </tr>\n",
              "    <tr>\n",
              "      <th>82</th>\n",
              "      <td>6</td>\n",
              "      <td>18</td>\n",
              "      <td>Kennedy and Heidi</td>\n",
              "      <td>13 May 2007</td>\n",
              "      <td>9.2</td>\n",
              "      <td>(5,378)</td>\n",
              "      <td>Tony travels to Las Vegas after a tragedy occurs.</td>\n",
              "    </tr>\n",
              "    <tr>\n",
              "      <th>83</th>\n",
              "      <td>6</td>\n",
              "      <td>19</td>\n",
              "      <td>The Second Coming</td>\n",
              "      <td>20 May 2007</td>\n",
              "      <td>9.3</td>\n",
              "      <td>(5,037)</td>\n",
              "      <td>Tony fails to reason with Phil as more problem...</td>\n",
              "    </tr>\n",
              "    <tr>\n",
              "      <th>84</th>\n",
              "      <td>6</td>\n",
              "      <td>20</td>\n",
              "      <td>The Blue Comet</td>\n",
              "      <td>3 Jun. 2007</td>\n",
              "      <td>9.6</td>\n",
              "      <td>(6,229)</td>\n",
              "      <td>The allegiance of those closest to Tony is put...</td>\n",
              "    </tr>\n",
              "    <tr>\n",
              "      <th>85</th>\n",
              "      <td>6</td>\n",
              "      <td>21</td>\n",
              "      <td>Made in America</td>\n",
              "      <td>10 Jun. 2007</td>\n",
              "      <td>9.3</td>\n",
              "      <td>(9,076)</td>\n",
              "      <td>Tony and his family have to stay in hiding unt...</td>\n",
              "    </tr>\n",
              "  </tbody>\n",
              "</table>\n",
              "<p>86 rows × 7 columns</p>\n",
              "</div>"
            ],
            "text/plain": [
              "    season  ...                                               desc\n",
              "0        1  ...  A mobster passes out at a family barbecue and ...\n",
              "1        1  ...  Tony is getting fed up with his mother. Brenda...\n",
              "2        1  ...  Tony encourages an unwanted son-in-law to divo...\n",
              "3        1  ...  Jackie's death leaves a power vacuum, Brendan'...\n",
              "4        1  ...  While visiting colleges with Meadow, Tony spot...\n",
              "..     ...  ...                                                ...\n",
              "81       6  ...  Christopher's father-in-law is the unwitting c...\n",
              "82       6  ...  Tony travels to Las Vegas after a tragedy occurs.\n",
              "83       6  ...  Tony fails to reason with Phil as more problem...\n",
              "84       6  ...  The allegiance of those closest to Tony is put...\n",
              "85       6  ...  Tony and his family have to stay in hiding unt...\n",
              "\n",
              "[86 rows x 7 columns]"
            ]
          },
          "metadata": {},
          "execution_count": 16
        }
      ]
    },
    {
      "cell_type": "code",
      "metadata": {
        "colab": {
          "base_uri": "https://localhost:8080/"
        },
        "id": "d8fdA8gd3ztF",
        "outputId": "a404e26f-5463-4978-f3d1-8fb8bd093cdf"
      },
      "source": [
        "sopranos_episodes['rating'].astype #should be 'float'"
      ],
      "execution_count": 17,
      "outputs": [
        {
          "output_type": "execute_result",
          "data": {
            "text/plain": [
              "<bound method NDFrame.astype of 0     8.5\n",
              "1     8.4\n",
              "2     8.7\n",
              "3     8.7\n",
              "4     9.0\n",
              "     ... \n",
              "81    8.9\n",
              "82    9.2\n",
              "83    9.3\n",
              "84    9.6\n",
              "85    9.3\n",
              "Name: rating, Length: 86, dtype: object>"
            ]
          },
          "metadata": {},
          "execution_count": 17
        }
      ]
    },
    {
      "cell_type": "code",
      "metadata": {
        "id": "KxIQFlZs5HMt"
      },
      "source": [
        "sopranos_episodes['rating'] = pd.to_numeric(sopranos_episodes['rating'], downcast=\"float\") #making 'rating' numeric "
      ],
      "execution_count": 18,
      "outputs": []
    },
    {
      "cell_type": "code",
      "metadata": {
        "id": "spN5LjovD7wm"
      },
      "source": [
        "sopranos_episodes['episode_number'] = pd.to_numeric(sopranos_episodes['episode_number'], downcast=\"integer\") #making 'episode_number' numeric "
      ],
      "execution_count": 19,
      "outputs": []
    },
    {
      "cell_type": "code",
      "metadata": {
        "id": "XYcN6oVEgHJf"
      },
      "source": [
        "vz = sopranos_episodes.pivot(index='season', columns='episode_number', values='rating') #creating a pivot table"
      ],
      "execution_count": 20,
      "outputs": []
    },
    {
      "cell_type": "code",
      "metadata": {
        "colab": {
          "base_uri": "https://localhost:8080/",
          "height": 372
        },
        "id": "MznUur9miUW_",
        "outputId": "2bab5120-b7bc-4ad9-8871-5d6c52aac12b"
      },
      "source": [
        "#Now the data is ready for visualization\n",
        "\n",
        "plt.figure(figsize = (16,5))\n",
        "\n",
        "ax = sns.heatmap(vz,  cmap=\"YlGnBu\", linewidths=.5, vmin=8.0, vmax=10.0)\n",
        "\n",
        "plt.xlabel(\"Episode Number\", fontsize = 10) \n",
        "plt.ylabel(\"Season\", fontsize = 10) \n",
        "ax.set_title('The Sopranos - IMDb rating', fontsize = 20)"
      ],
      "execution_count": 21,
      "outputs": [
        {
          "output_type": "execute_result",
          "data": {
            "text/plain": [
              "Text(0.5, 1.0, 'The Sopranos - IMDb rating')"
            ]
          },
          "metadata": {},
          "execution_count": 21
        },
        {
          "output_type": "display_data",
          "data": {
            "image/png": "[encoded data removed]",
            "text/plain": [
              "<Figure size 1152x360 with 2 Axes>"
            ]
          },
          "metadata": {
            "needs_background": "light"
          }
        }
      ]
    },
    {
      "cell_type": "code",
      "metadata": {
        "colab": {
          "base_uri": "https://localhost:8080/"
        },
        "id": "2reAXRkgRkz9",
        "outputId": "573a6dd4-2edf-479f-97ed-9e473ea24e28"
      },
      "source": [
        "vz.mean(axis=1) #average ratings per season"
      ],
      "execution_count": 22,
      "outputs": [
        {
          "output_type": "execute_result",
          "data": {
            "text/plain": [
              "season\n",
              "1    8.684615\n",
              "2    8.684616\n",
              "3    8.776922\n",
              "4    8.453847\n",
              "5    8.792307\n",
              "6    8.761905\n",
              "dtype: float32"
            ]
          },
          "metadata": {},
          "execution_count": 22
        }
      ]
    },
    {
      "cell_type": "code",
      "metadata": {
        "colab": {
          "base_uri": "https://localhost:8080/",
          "height": 286
        },
        "id": "GyfiqVBJ_Soo",
        "outputId": "40108e32-aa42-4dc1-e7c2-1f928c5b4e72"
      },
      "source": [
        "vz.style.highlight_max(color = 'lightblue', axis = 1) #the highest ratings"
      ],
      "execution_count": 23,
      "outputs": [
        {
          "output_type": "execute_result",
          "data": {
            "text/html": [
              "<style  type=\"text/css\" >\n",
              "#T_5fdaa8ce_4f98_11ec_886f_0242ac1c0002row0_col11,#T_5fdaa8ce_4f98_11ec_886f_0242ac1c0002row0_col12,#T_5fdaa8ce_4f98_11ec_886f_0242ac1c0002row1_col11,#T_5fdaa8ce_4f98_11ec_886f_0242ac1c0002row1_col12,#T_5fdaa8ce_4f98_11ec_886f_0242ac1c0002row2_col10,#T_5fdaa8ce_4f98_11ec_886f_0242ac1c0002row3_col8,#T_5fdaa8ce_4f98_11ec_886f_0242ac1c0002row3_col12,#T_5fdaa8ce_4f98_11ec_886f_0242ac1c0002row4_col11,#T_5fdaa8ce_4f98_11ec_886f_0242ac1c0002row5_col19{\n",
              "            background-color:  lightblue;\n",
              "        }</style><table id=\"T_5fdaa8ce_4f98_11ec_886f_0242ac1c0002\" class=\"dataframe\"><thead>    <tr>        <th class=\"index_name level0\" >episode_number</th>        <th class=\"col_heading level0 col0\" >1</th>        <th class=\"col_heading level0 col1\" >2</th>        <th class=\"col_heading level0 col2\" >3</th>        <th class=\"col_heading level0 col3\" >4</th>        <th class=\"col_heading level0 col4\" >5</th>        <th class=\"col_heading level0 col5\" >6</th>        <th class=\"col_heading level0 col6\" >7</th>        <th class=\"col_heading level0 col7\" >8</th>        <th class=\"col_heading level0 col8\" >9</th>        <th class=\"col_heading level0 col9\" >10</th>        <th class=\"col_heading level0 col10\" >11</th>        <th class=\"col_heading level0 col11\" >12</th>        <th class=\"col_heading level0 col12\" >13</th>        <th class=\"col_heading level0 col13\" >14</th>        <th class=\"col_heading level0 col14\" >15</th>        <th class=\"col_heading level0 col15\" >16</th>        <th class=\"col_heading level0 col16\" >17</th>        <th class=\"col_heading level0 col17\" >18</th>        <th class=\"col_heading level0 col18\" >19</th>        <th class=\"col_heading level0 col19\" >20</th>        <th class=\"col_heading level0 col20\" >21</th>    </tr>    <tr>        <th class=\"index_name level0\" >season</th>        <th class=\"blank\" ></th>        <th class=\"blank\" ></th>        <th class=\"blank\" ></th>        <th class=\"blank\" ></th>        <th class=\"blank\" ></th>        <th class=\"blank\" ></th>        <th class=\"blank\" ></th>        <th class=\"blank\" ></th>        <th class=\"blank\" ></th>        <th class=\"blank\" ></th>        <th class=\"blank\" ></th>        <th class=\"blank\" ></th>        <th class=\"blank\" ></th>        <th class=\"blank\" ></th>        <th class=\"blank\" ></th>        <th class=\"blank\" ></th>        <th class=\"blank\" ></th>        <th class=\"blank\" ></th>        <th class=\"blank\" ></th>        <th class=\"blank\" ></th>        <th class=\"blank\" ></th>    </tr></thead><tbody>\n",
              "                <tr>\n",
              "                        <th id=\"T_5fdaa8ce_4f98_11ec_886f_0242ac1c0002level0_row0\" class=\"row_heading level0 row0\" >1</th>\n",
              "                        <td id=\"T_5fdaa8ce_4f98_11ec_886f_0242ac1c0002row0_col0\" class=\"data row0 col0\" >8.500000</td>\n",
              "                        <td id=\"T_5fdaa8ce_4f98_11ec_886f_0242ac1c0002row0_col1\" class=\"data row0 col1\" >8.400000</td>\n",
              "                        <td id=\"T_5fdaa8ce_4f98_11ec_886f_0242ac1c0002row0_col2\" class=\"data row0 col2\" >8.700000</td>\n",
              "                        <td id=\"T_5fdaa8ce_4f98_11ec_886f_0242ac1c0002row0_col3\" class=\"data row0 col3\" >8.700000</td>\n",
              "                        <td id=\"T_5fdaa8ce_4f98_11ec_886f_0242ac1c0002row0_col4\" class=\"data row0 col4\" >9.000000</td>\n",
              "                        <td id=\"T_5fdaa8ce_4f98_11ec_886f_0242ac1c0002row0_col5\" class=\"data row0 col5\" >8.600000</td>\n",
              "                        <td id=\"T_5fdaa8ce_4f98_11ec_886f_0242ac1c0002row0_col6\" class=\"data row0 col6\" >8.500000</td>\n",
              "                        <td id=\"T_5fdaa8ce_4f98_11ec_886f_0242ac1c0002row0_col7\" class=\"data row0 col7\" >8.700000</td>\n",
              "                        <td id=\"T_5fdaa8ce_4f98_11ec_886f_0242ac1c0002row0_col8\" class=\"data row0 col8\" >8.600000</td>\n",
              "                        <td id=\"T_5fdaa8ce_4f98_11ec_886f_0242ac1c0002row0_col9\" class=\"data row0 col9\" >8.000000</td>\n",
              "                        <td id=\"T_5fdaa8ce_4f98_11ec_886f_0242ac1c0002row0_col10\" class=\"data row0 col10\" >8.800000</td>\n",
              "                        <td id=\"T_5fdaa8ce_4f98_11ec_886f_0242ac1c0002row0_col11\" class=\"data row0 col11\" >9.200000</td>\n",
              "                        <td id=\"T_5fdaa8ce_4f98_11ec_886f_0242ac1c0002row0_col12\" class=\"data row0 col12\" >9.200000</td>\n",
              "                        <td id=\"T_5fdaa8ce_4f98_11ec_886f_0242ac1c0002row0_col13\" class=\"data row0 col13\" >nan</td>\n",
              "                        <td id=\"T_5fdaa8ce_4f98_11ec_886f_0242ac1c0002row0_col14\" class=\"data row0 col14\" >nan</td>\n",
              "                        <td id=\"T_5fdaa8ce_4f98_11ec_886f_0242ac1c0002row0_col15\" class=\"data row0 col15\" >nan</td>\n",
              "                        <td id=\"T_5fdaa8ce_4f98_11ec_886f_0242ac1c0002row0_col16\" class=\"data row0 col16\" >nan</td>\n",
              "                        <td id=\"T_5fdaa8ce_4f98_11ec_886f_0242ac1c0002row0_col17\" class=\"data row0 col17\" >nan</td>\n",
              "                        <td id=\"T_5fdaa8ce_4f98_11ec_886f_0242ac1c0002row0_col18\" class=\"data row0 col18\" >nan</td>\n",
              "                        <td id=\"T_5fdaa8ce_4f98_11ec_886f_0242ac1c0002row0_col19\" class=\"data row0 col19\" >nan</td>\n",
              "                        <td id=\"T_5fdaa8ce_4f98_11ec_886f_0242ac1c0002row0_col20\" class=\"data row0 col20\" >nan</td>\n",
              "            </tr>\n",
              "            <tr>\n",
              "                        <th id=\"T_5fdaa8ce_4f98_11ec_886f_0242ac1c0002level0_row1\" class=\"row_heading level0 row1\" >2</th>\n",
              "                        <td id=\"T_5fdaa8ce_4f98_11ec_886f_0242ac1c0002row1_col0\" class=\"data row1 col0\" >8.300000</td>\n",
              "                        <td id=\"T_5fdaa8ce_4f98_11ec_886f_0242ac1c0002row1_col1\" class=\"data row1 col1\" >8.200000</td>\n",
              "                        <td id=\"T_5fdaa8ce_4f98_11ec_886f_0242ac1c0002row1_col2\" class=\"data row1 col2\" >8.500000</td>\n",
              "                        <td id=\"T_5fdaa8ce_4f98_11ec_886f_0242ac1c0002row1_col3\" class=\"data row1 col3\" >8.600000</td>\n",
              "                        <td id=\"T_5fdaa8ce_4f98_11ec_886f_0242ac1c0002row1_col4\" class=\"data row1 col4\" >8.600000</td>\n",
              "                        <td id=\"T_5fdaa8ce_4f98_11ec_886f_0242ac1c0002row1_col5\" class=\"data row1 col5\" >8.700000</td>\n",
              "                        <td id=\"T_5fdaa8ce_4f98_11ec_886f_0242ac1c0002row1_col6\" class=\"data row1 col6\" >8.700000</td>\n",
              "                        <td id=\"T_5fdaa8ce_4f98_11ec_886f_0242ac1c0002row1_col7\" class=\"data row1 col7\" >8.900000</td>\n",
              "                        <td id=\"T_5fdaa8ce_4f98_11ec_886f_0242ac1c0002row1_col8\" class=\"data row1 col8\" >8.800000</td>\n",
              "                        <td id=\"T_5fdaa8ce_4f98_11ec_886f_0242ac1c0002row1_col9\" class=\"data row1 col9\" >8.500000</td>\n",
              "                        <td id=\"T_5fdaa8ce_4f98_11ec_886f_0242ac1c0002row1_col10\" class=\"data row1 col10\" >8.300000</td>\n",
              "                        <td id=\"T_5fdaa8ce_4f98_11ec_886f_0242ac1c0002row1_col11\" class=\"data row1 col11\" >9.400000</td>\n",
              "                        <td id=\"T_5fdaa8ce_4f98_11ec_886f_0242ac1c0002row1_col12\" class=\"data row1 col12\" >9.400000</td>\n",
              "                        <td id=\"T_5fdaa8ce_4f98_11ec_886f_0242ac1c0002row1_col13\" class=\"data row1 col13\" >nan</td>\n",
              "                        <td id=\"T_5fdaa8ce_4f98_11ec_886f_0242ac1c0002row1_col14\" class=\"data row1 col14\" >nan</td>\n",
              "                        <td id=\"T_5fdaa8ce_4f98_11ec_886f_0242ac1c0002row1_col15\" class=\"data row1 col15\" >nan</td>\n",
              "                        <td id=\"T_5fdaa8ce_4f98_11ec_886f_0242ac1c0002row1_col16\" class=\"data row1 col16\" >nan</td>\n",
              "                        <td id=\"T_5fdaa8ce_4f98_11ec_886f_0242ac1c0002row1_col17\" class=\"data row1 col17\" >nan</td>\n",
              "                        <td id=\"T_5fdaa8ce_4f98_11ec_886f_0242ac1c0002row1_col18\" class=\"data row1 col18\" >nan</td>\n",
              "                        <td id=\"T_5fdaa8ce_4f98_11ec_886f_0242ac1c0002row1_col19\" class=\"data row1 col19\" >nan</td>\n",
              "                        <td id=\"T_5fdaa8ce_4f98_11ec_886f_0242ac1c0002row1_col20\" class=\"data row1 col20\" >nan</td>\n",
              "            </tr>\n",
              "            <tr>\n",
              "                        <th id=\"T_5fdaa8ce_4f98_11ec_886f_0242ac1c0002level0_row2\" class=\"row_heading level0 row2\" >3</th>\n",
              "                        <td id=\"T_5fdaa8ce_4f98_11ec_886f_0242ac1c0002row2_col0\" class=\"data row2 col0\" >8.700000</td>\n",
              "                        <td id=\"T_5fdaa8ce_4f98_11ec_886f_0242ac1c0002row2_col1\" class=\"data row2 col1\" >8.700000</td>\n",
              "                        <td id=\"T_5fdaa8ce_4f98_11ec_886f_0242ac1c0002row2_col2\" class=\"data row2 col2\" >8.500000</td>\n",
              "                        <td id=\"T_5fdaa8ce_4f98_11ec_886f_0242ac1c0002row2_col3\" class=\"data row2 col3\" >9.100000</td>\n",
              "                        <td id=\"T_5fdaa8ce_4f98_11ec_886f_0242ac1c0002row2_col4\" class=\"data row2 col4\" >8.700000</td>\n",
              "                        <td id=\"T_5fdaa8ce_4f98_11ec_886f_0242ac1c0002row2_col5\" class=\"data row2 col5\" >8.800000</td>\n",
              "                        <td id=\"T_5fdaa8ce_4f98_11ec_886f_0242ac1c0002row2_col6\" class=\"data row2 col6\" >8.500000</td>\n",
              "                        <td id=\"T_5fdaa8ce_4f98_11ec_886f_0242ac1c0002row2_col7\" class=\"data row2 col7\" >8.400000</td>\n",
              "                        <td id=\"T_5fdaa8ce_4f98_11ec_886f_0242ac1c0002row2_col8\" class=\"data row2 col8\" >8.200000</td>\n",
              "                        <td id=\"T_5fdaa8ce_4f98_11ec_886f_0242ac1c0002row2_col9\" class=\"data row2 col9\" >8.500000</td>\n",
              "                        <td id=\"T_5fdaa8ce_4f98_11ec_886f_0242ac1c0002row2_col10\" class=\"data row2 col10\" >9.700000</td>\n",
              "                        <td id=\"T_5fdaa8ce_4f98_11ec_886f_0242ac1c0002row2_col11\" class=\"data row2 col11\" >9.200000</td>\n",
              "                        <td id=\"T_5fdaa8ce_4f98_11ec_886f_0242ac1c0002row2_col12\" class=\"data row2 col12\" >9.100000</td>\n",
              "                        <td id=\"T_5fdaa8ce_4f98_11ec_886f_0242ac1c0002row2_col13\" class=\"data row2 col13\" >nan</td>\n",
              "                        <td id=\"T_5fdaa8ce_4f98_11ec_886f_0242ac1c0002row2_col14\" class=\"data row2 col14\" >nan</td>\n",
              "                        <td id=\"T_5fdaa8ce_4f98_11ec_886f_0242ac1c0002row2_col15\" class=\"data row2 col15\" >nan</td>\n",
              "                        <td id=\"T_5fdaa8ce_4f98_11ec_886f_0242ac1c0002row2_col16\" class=\"data row2 col16\" >nan</td>\n",
              "                        <td id=\"T_5fdaa8ce_4f98_11ec_886f_0242ac1c0002row2_col17\" class=\"data row2 col17\" >nan</td>\n",
              "                        <td id=\"T_5fdaa8ce_4f98_11ec_886f_0242ac1c0002row2_col18\" class=\"data row2 col18\" >nan</td>\n",
              "                        <td id=\"T_5fdaa8ce_4f98_11ec_886f_0242ac1c0002row2_col19\" class=\"data row2 col19\" >nan</td>\n",
              "                        <td id=\"T_5fdaa8ce_4f98_11ec_886f_0242ac1c0002row2_col20\" class=\"data row2 col20\" >nan</td>\n",
              "            </tr>\n",
              "            <tr>\n",
              "                        <th id=\"T_5fdaa8ce_4f98_11ec_886f_0242ac1c0002level0_row3\" class=\"row_heading level0 row3\" >4</th>\n",
              "                        <td id=\"T_5fdaa8ce_4f98_11ec_886f_0242ac1c0002row3_col0\" class=\"data row3 col0\" >8.300000</td>\n",
              "                        <td id=\"T_5fdaa8ce_4f98_11ec_886f_0242ac1c0002row3_col1\" class=\"data row3 col1\" >8.300000</td>\n",
              "                        <td id=\"T_5fdaa8ce_4f98_11ec_886f_0242ac1c0002row3_col2\" class=\"data row3 col2\" >7.900000</td>\n",
              "                        <td id=\"T_5fdaa8ce_4f98_11ec_886f_0242ac1c0002row3_col3\" class=\"data row3 col3\" >8.500000</td>\n",
              "                        <td id=\"T_5fdaa8ce_4f98_11ec_886f_0242ac1c0002row3_col4\" class=\"data row3 col4\" >8.200000</td>\n",
              "                        <td id=\"T_5fdaa8ce_4f98_11ec_886f_0242ac1c0002row3_col5\" class=\"data row3 col5\" >8.400000</td>\n",
              "                        <td id=\"T_5fdaa8ce_4f98_11ec_886f_0242ac1c0002row3_col6\" class=\"data row3 col6\" >8.200000</td>\n",
              "                        <td id=\"T_5fdaa8ce_4f98_11ec_886f_0242ac1c0002row3_col7\" class=\"data row3 col7\" >8.200000</td>\n",
              "                        <td id=\"T_5fdaa8ce_4f98_11ec_886f_0242ac1c0002row3_col8\" class=\"data row3 col8\" >9.300000</td>\n",
              "                        <td id=\"T_5fdaa8ce_4f98_11ec_886f_0242ac1c0002row3_col9\" class=\"data row3 col9\" >8.900000</td>\n",
              "                        <td id=\"T_5fdaa8ce_4f98_11ec_886f_0242ac1c0002row3_col10\" class=\"data row3 col10\" >8.100000</td>\n",
              "                        <td id=\"T_5fdaa8ce_4f98_11ec_886f_0242ac1c0002row3_col11\" class=\"data row3 col11\" >8.300000</td>\n",
              "                        <td id=\"T_5fdaa8ce_4f98_11ec_886f_0242ac1c0002row3_col12\" class=\"data row3 col12\" >9.300000</td>\n",
              "                        <td id=\"T_5fdaa8ce_4f98_11ec_886f_0242ac1c0002row3_col13\" class=\"data row3 col13\" >nan</td>\n",
              "                        <td id=\"T_5fdaa8ce_4f98_11ec_886f_0242ac1c0002row3_col14\" class=\"data row3 col14\" >nan</td>\n",
              "                        <td id=\"T_5fdaa8ce_4f98_11ec_886f_0242ac1c0002row3_col15\" class=\"data row3 col15\" >nan</td>\n",
              "                        <td id=\"T_5fdaa8ce_4f98_11ec_886f_0242ac1c0002row3_col16\" class=\"data row3 col16\" >nan</td>\n",
              "                        <td id=\"T_5fdaa8ce_4f98_11ec_886f_0242ac1c0002row3_col17\" class=\"data row3 col17\" >nan</td>\n",
              "                        <td id=\"T_5fdaa8ce_4f98_11ec_886f_0242ac1c0002row3_col18\" class=\"data row3 col18\" >nan</td>\n",
              "                        <td id=\"T_5fdaa8ce_4f98_11ec_886f_0242ac1c0002row3_col19\" class=\"data row3 col19\" >nan</td>\n",
              "                        <td id=\"T_5fdaa8ce_4f98_11ec_886f_0242ac1c0002row3_col20\" class=\"data row3 col20\" >nan</td>\n",
              "            </tr>\n",
              "            <tr>\n",
              "                        <th id=\"T_5fdaa8ce_4f98_11ec_886f_0242ac1c0002level0_row4\" class=\"row_heading level0 row4\" >5</th>\n",
              "                        <td id=\"T_5fdaa8ce_4f98_11ec_886f_0242ac1c0002row4_col0\" class=\"data row4 col0\" >8.700000</td>\n",
              "                        <td id=\"T_5fdaa8ce_4f98_11ec_886f_0242ac1c0002row4_col1\" class=\"data row4 col1\" >8.500000</td>\n",
              "                        <td id=\"T_5fdaa8ce_4f98_11ec_886f_0242ac1c0002row4_col2\" class=\"data row4 col2\" >8.700000</td>\n",
              "                        <td id=\"T_5fdaa8ce_4f98_11ec_886f_0242ac1c0002row4_col3\" class=\"data row4 col3\" >8.600000</td>\n",
              "                        <td id=\"T_5fdaa8ce_4f98_11ec_886f_0242ac1c0002row4_col4\" class=\"data row4 col4\" >9.300000</td>\n",
              "                        <td id=\"T_5fdaa8ce_4f98_11ec_886f_0242ac1c0002row4_col5\" class=\"data row4 col5\" >8.300000</td>\n",
              "                        <td id=\"T_5fdaa8ce_4f98_11ec_886f_0242ac1c0002row4_col6\" class=\"data row4 col6\" >8.100000</td>\n",
              "                        <td id=\"T_5fdaa8ce_4f98_11ec_886f_0242ac1c0002row4_col7\" class=\"data row4 col7\" >8.800000</td>\n",
              "                        <td id=\"T_5fdaa8ce_4f98_11ec_886f_0242ac1c0002row4_col8\" class=\"data row4 col8\" >8.900000</td>\n",
              "                        <td id=\"T_5fdaa8ce_4f98_11ec_886f_0242ac1c0002row4_col9\" class=\"data row4 col9\" >8.700000</td>\n",
              "                        <td id=\"T_5fdaa8ce_4f98_11ec_886f_0242ac1c0002row4_col10\" class=\"data row4 col10\" >8.700000</td>\n",
              "                        <td id=\"T_5fdaa8ce_4f98_11ec_886f_0242ac1c0002row4_col11\" class=\"data row4 col11\" >9.700000</td>\n",
              "                        <td id=\"T_5fdaa8ce_4f98_11ec_886f_0242ac1c0002row4_col12\" class=\"data row4 col12\" >9.300000</td>\n",
              "                        <td id=\"T_5fdaa8ce_4f98_11ec_886f_0242ac1c0002row4_col13\" class=\"data row4 col13\" >nan</td>\n",
              "                        <td id=\"T_5fdaa8ce_4f98_11ec_886f_0242ac1c0002row4_col14\" class=\"data row4 col14\" >nan</td>\n",
              "                        <td id=\"T_5fdaa8ce_4f98_11ec_886f_0242ac1c0002row4_col15\" class=\"data row4 col15\" >nan</td>\n",
              "                        <td id=\"T_5fdaa8ce_4f98_11ec_886f_0242ac1c0002row4_col16\" class=\"data row4 col16\" >nan</td>\n",
              "                        <td id=\"T_5fdaa8ce_4f98_11ec_886f_0242ac1c0002row4_col17\" class=\"data row4 col17\" >nan</td>\n",
              "                        <td id=\"T_5fdaa8ce_4f98_11ec_886f_0242ac1c0002row4_col18\" class=\"data row4 col18\" >nan</td>\n",
              "                        <td id=\"T_5fdaa8ce_4f98_11ec_886f_0242ac1c0002row4_col19\" class=\"data row4 col19\" >nan</td>\n",
              "                        <td id=\"T_5fdaa8ce_4f98_11ec_886f_0242ac1c0002row4_col20\" class=\"data row4 col20\" >nan</td>\n",
              "            </tr>\n",
              "            <tr>\n",
              "                        <th id=\"T_5fdaa8ce_4f98_11ec_886f_0242ac1c0002level0_row5\" class=\"row_heading level0 row5\" >6</th>\n",
              "                        <td id=\"T_5fdaa8ce_4f98_11ec_886f_0242ac1c0002row5_col0\" class=\"data row5 col0\" >9.200000</td>\n",
              "                        <td id=\"T_5fdaa8ce_4f98_11ec_886f_0242ac1c0002row5_col1\" class=\"data row5 col1\" >8.800000</td>\n",
              "                        <td id=\"T_5fdaa8ce_4f98_11ec_886f_0242ac1c0002row5_col2\" class=\"data row5 col2\" >8.800000</td>\n",
              "                        <td id=\"T_5fdaa8ce_4f98_11ec_886f_0242ac1c0002row5_col3\" class=\"data row5 col3\" >8.500000</td>\n",
              "                        <td id=\"T_5fdaa8ce_4f98_11ec_886f_0242ac1c0002row5_col4\" class=\"data row5 col4\" >8.800000</td>\n",
              "                        <td id=\"T_5fdaa8ce_4f98_11ec_886f_0242ac1c0002row5_col5\" class=\"data row5 col5\" >8.600000</td>\n",
              "                        <td id=\"T_5fdaa8ce_4f98_11ec_886f_0242ac1c0002row5_col6\" class=\"data row5 col6\" >8.300000</td>\n",
              "                        <td id=\"T_5fdaa8ce_4f98_11ec_886f_0242ac1c0002row5_col7\" class=\"data row5 col7\" >8.400000</td>\n",
              "                        <td id=\"T_5fdaa8ce_4f98_11ec_886f_0242ac1c0002row5_col8\" class=\"data row5 col8\" >8.400000</td>\n",
              "                        <td id=\"T_5fdaa8ce_4f98_11ec_886f_0242ac1c0002row5_col9\" class=\"data row5 col9\" >8.200000</td>\n",
              "                        <td id=\"T_5fdaa8ce_4f98_11ec_886f_0242ac1c0002row5_col10\" class=\"data row5 col10\" >8.700000</td>\n",
              "                        <td id=\"T_5fdaa8ce_4f98_11ec_886f_0242ac1c0002row5_col11\" class=\"data row5 col11\" >8.300000</td>\n",
              "                        <td id=\"T_5fdaa8ce_4f98_11ec_886f_0242ac1c0002row5_col12\" class=\"data row5 col12\" >9.100000</td>\n",
              "                        <td id=\"T_5fdaa8ce_4f98_11ec_886f_0242ac1c0002row5_col13\" class=\"data row5 col13\" >8.900000</td>\n",
              "                        <td id=\"T_5fdaa8ce_4f98_11ec_886f_0242ac1c0002row5_col14\" class=\"data row5 col14\" >8.600000</td>\n",
              "                        <td id=\"T_5fdaa8ce_4f98_11ec_886f_0242ac1c0002row5_col15\" class=\"data row5 col15\" >8.100000</td>\n",
              "                        <td id=\"T_5fdaa8ce_4f98_11ec_886f_0242ac1c0002row5_col16\" class=\"data row5 col16\" >8.900000</td>\n",
              "                        <td id=\"T_5fdaa8ce_4f98_11ec_886f_0242ac1c0002row5_col17\" class=\"data row5 col17\" >9.200000</td>\n",
              "                        <td id=\"T_5fdaa8ce_4f98_11ec_886f_0242ac1c0002row5_col18\" class=\"data row5 col18\" >9.300000</td>\n",
              "                        <td id=\"T_5fdaa8ce_4f98_11ec_886f_0242ac1c0002row5_col19\" class=\"data row5 col19\" >9.600000</td>\n",
              "                        <td id=\"T_5fdaa8ce_4f98_11ec_886f_0242ac1c0002row5_col20\" class=\"data row5 col20\" >9.300000</td>\n",
              "            </tr>\n",
              "    </tbody></table>"
            ],
            "text/plain": [
              "<pandas.io.formats.style.Styler at 0x7f8e2c6ee550>"
            ]
          },
          "metadata": {},
          "execution_count": 23
        }
      ]
    },
    {
      "cell_type": "markdown",
      "metadata": {
        "id": "a7vZPAiau_tc"
      },
      "source": [
        "**Second DataFrame - Wikipedia**"
      ]
    },
    {
      "cell_type": "code",
      "metadata": {
        "colab": {
          "base_uri": "https://localhost:8080/",
          "height": 204
        },
        "id": "tZt2iq1rVhB2",
        "outputId": "7f5d5f54-b537-49b8-d561-66e53fa0f8da"
      },
      "source": [
        "df.head()"
      ],
      "execution_count": 24,
      "outputs": [
        {
          "output_type": "execute_result",
          "data": {
            "text/html": [
              "<div>\n",
              "<style scoped>\n",
              "    .dataframe tbody tr th:only-of-type {\n",
              "        vertical-align: middle;\n",
              "    }\n",
              "\n",
              "    .dataframe tbody tr th {\n",
              "        vertical-align: top;\n",
              "    }\n",
              "\n",
              "    .dataframe thead th {\n",
              "        text-align: right;\n",
              "    }\n",
              "</style>\n",
              "<table border=\"1\" class=\"dataframe\">\n",
              "  <thead>\n",
              "    <tr style=\"text-align: right;\">\n",
              "      <th></th>\n",
              "      <th>Award</th>\n",
              "      <th>Year[a]</th>\n",
              "      <th>Category</th>\n",
              "      <th>Nominee(s)</th>\n",
              "      <th>Result</th>\n",
              "      <th>Ref.</th>\n",
              "    </tr>\n",
              "  </thead>\n",
              "  <tbody>\n",
              "    <tr>\n",
              "      <th>0</th>\n",
              "      <td>ALMA Awards</td>\n",
              "      <td>2001</td>\n",
              "      <td>Outstanding Actress in a Television Series</td>\n",
              "      <td>Jamie-Lynn Sigler</td>\n",
              "      <td>Nominated</td>\n",
              "      <td>[7]</td>\n",
              "    </tr>\n",
              "    <tr>\n",
              "      <th>1</th>\n",
              "      <td>ALMA Awards</td>\n",
              "      <td>2002</td>\n",
              "      <td>Outstanding Actress in a Television Series</td>\n",
              "      <td>Jamie-Lynn Sigler</td>\n",
              "      <td>Nominated</td>\n",
              "      <td>[8]</td>\n",
              "    </tr>\n",
              "    <tr>\n",
              "      <th>2</th>\n",
              "      <td>American Cinema Editors Awards</td>\n",
              "      <td>2000</td>\n",
              "      <td>Best Edited One-Hour Series for Television</td>\n",
              "      <td>William B. Stich (for \"I Dream of Jeannie Cusa...</td>\n",
              "      <td>Nominated</td>\n",
              "      <td>[9]</td>\n",
              "    </tr>\n",
              "    <tr>\n",
              "      <th>3</th>\n",
              "      <td>American Cinema Editors Awards</td>\n",
              "      <td>2001</td>\n",
              "      <td>Best Edited One-Hour Series for Television</td>\n",
              "      <td>Sidney Wolinsky (for \"Funhouse\")</td>\n",
              "      <td>Nominated</td>\n",
              "      <td>[10]</td>\n",
              "    </tr>\n",
              "    <tr>\n",
              "      <th>4</th>\n",
              "      <td>American Cinema Editors Awards</td>\n",
              "      <td>2002</td>\n",
              "      <td>Best Edited One-Hour Series for Television</td>\n",
              "      <td>Conrad Gonzalez (for \"Pine Barrens\")</td>\n",
              "      <td>Won</td>\n",
              "      <td>[11]</td>\n",
              "    </tr>\n",
              "  </tbody>\n",
              "</table>\n",
              "</div>"
            ],
            "text/plain": [
              "                            Award  Year[a]  ...     Result  Ref.\n",
              "0                     ALMA Awards     2001  ...  Nominated   [7]\n",
              "1                     ALMA Awards     2002  ...  Nominated   [8]\n",
              "2  American Cinema Editors Awards     2000  ...  Nominated   [9]\n",
              "3  American Cinema Editors Awards     2001  ...  Nominated  [10]\n",
              "4  American Cinema Editors Awards     2002  ...        Won  [11]\n",
              "\n",
              "[5 rows x 6 columns]"
            ]
          },
          "metadata": {},
          "execution_count": 24
        }
      ]
    },
    {
      "cell_type": "code",
      "metadata": {
        "colab": {
          "base_uri": "https://localhost:8080/"
        },
        "id": "lYW_wc4dvCEY",
        "outputId": "c9292d2d-9cf9-412e-d9d6-5228f7db941d"
      },
      "source": [
        "df['Award'].value_counts()"
      ],
      "execution_count": 25,
      "outputs": [
        {
          "output_type": "execute_result",
          "data": {
            "text/plain": [
              "Primetime Emmy Awards                                    71\n",
              "Primetime Creative Arts Emmy Awards                      40\n",
              "Screen Actors Guild Awards                               26\n",
              "Television Critics Association Awards                    24\n",
              "Golden Globe Awards                                      23\n",
              "Directors Guild of America Awards                        16\n",
              "Writers Guild of America Awards                          11\n",
              "Satellite Awards                                         10\n",
              "American Cinema Editors Awards                            7\n",
              "Cinema Audio Society Awards                               6\n",
              "Producers Guild of America Awards                         6\n",
              "Costume Designers Guild Awards                            6\n",
              "American Film Institute Awards                            6\n",
              "Banff Rockie Awards                                       4\n",
              "BMI Film & TV Awards                                      3\n",
              "ASCAP Film and Television Music Awards                    2\n",
              "Grammy Awards                                             2\n",
              "International Festival of Audiovisual Programs Awards     2\n",
              "ALMA Awards                                               2\n",
              "Edgar Awards                                              2\n",
              "Artios Awards                                             2\n",
              "Peabody Awards                                            2\n",
              "Chris Awards                                              1\n",
              "American Society of Cinematographers Awards               1\n",
              "GLAAD Media Awards                                        1\n",
              "Name: Award, dtype: int64"
            ]
          },
          "metadata": {},
          "execution_count": 25
        }
      ]
    },
    {
      "cell_type": "code",
      "metadata": {
        "id": "o1BFU78W0Gca"
      },
      "source": [
        "#Let's focus on the Emmy analysis\n",
        "def selecting_emmy(award):\n",
        "    if award == 'Primetime Emmy Awards':\n",
        "        return 'Primetime Emmy Awards'    \n",
        "\n",
        "    return 'Others'\n",
        "\n",
        "df['Award'] = df['Award'].apply(selecting_emmy)"
      ],
      "execution_count": 48,
      "outputs": []
    },
    {
      "cell_type": "code",
      "metadata": {
        "colab": {
          "base_uri": "https://localhost:8080/"
        },
        "id": "gLK8RY_u2oU9",
        "outputId": "ef4e9719-7a5a-4165-f3d5-ea76eba064d8"
      },
      "source": [
        "df['Award'].value_counts()  "
      ],
      "execution_count": 27,
      "outputs": [
        {
          "output_type": "execute_result",
          "data": {
            "text/plain": [
              "Others                   205\n",
              "Primetime Emmy Awards     71\n",
              "Name: Award, dtype: int64"
            ]
          },
          "metadata": {},
          "execution_count": 27
        }
      ]
    },
    {
      "cell_type": "code",
      "metadata": {
        "id": "XX7OBUQ33dko"
      },
      "source": [
        "df.rename({'Year[a]': 'Year'}, axis=1, inplace=True)"
      ],
      "execution_count": 28,
      "outputs": []
    },
    {
      "cell_type": "code",
      "metadata": {
        "colab": {
          "base_uri": "https://localhost:8080/"
        },
        "id": "vwczeYdC4HHq",
        "outputId": "89095d3f-4b64-4f21-b6b6-a6db4a9958f4"
      },
      "source": [
        "df['Category'].value_counts() "
      ],
      "execution_count": 29,
      "outputs": [
        {
          "output_type": "execute_result",
          "data": {
            "text/plain": [
              "Outstanding Writing for a Drama Series                              21\n",
              "Outstanding Directorial Achievement in Dramatic Series Night        16\n",
              "Outstanding Directing for a Drama Series                            13\n",
              "Outstanding Performance by a Female Actor in a Drama Series         12\n",
              "Individual Achievement in Drama                                     10\n",
              "                                                                    ..\n",
              "Outstanding Achievement in Cinematography in Episodic Television     1\n",
              "Outstanding Sound Editing for a Series                               1\n",
              "Silver FIPA – Series and Serials                                     1\n",
              "Outstanding Casting for a Series                                     1\n",
              "Bronze Plaque – Entertainment                                        1\n",
              "Name: Category, Length: 66, dtype: int64"
            ]
          },
          "metadata": {},
          "execution_count": 29
        }
      ]
    },
    {
      "cell_type": "code",
      "metadata": {
        "id": "0TDFBBTOD6-B"
      },
      "source": [
        "#Let's just look at the Emmy categories\n",
        "def formatting_categories(category):\n",
        "    if category == 'Outstanding Drama Series':\n",
        "        return category  \n",
        "        \n",
        "    if category == 'Outstanding Directing for a Drama Series':\n",
        "        return category\n",
        "\n",
        "    if category == 'Outstanding Writing for a Drama Series':\n",
        "        return category\n",
        "\n",
        "    if category == 'Outstanding Lead Actor in a Drama Series':\n",
        "        return category\n",
        "\n",
        "    if category == 'Outstanding Lead Actress in a Drama Series':\n",
        "        return category\n",
        "\n",
        "    if category == 'Outstanding Supporting Actress in a Drama Series':\n",
        "        return category\n",
        "        \n",
        "    if category == 'Outstanding Supporting Actor in a Drama Series':\n",
        "        return  category            \n",
        "\n",
        "    else:\n",
        "        return 'Others'\n",
        "\n",
        "df['Category'] = df['Category'].apply(formatting_categories)"
      ],
      "execution_count": 43,
      "outputs": []
    },
    {
      "cell_type": "code",
      "metadata": {
        "colab": {
          "base_uri": "https://localhost:8080/"
        },
        "id": "C6gt6m5lILp7",
        "outputId": "604c925e-dedb-4d84-fc4b-41cc314e4f63"
      },
      "source": [
        "df['Category'].value_counts()"
      ],
      "execution_count": 44,
      "outputs": [
        {
          "output_type": "execute_result",
          "data": {
            "text/plain": [
              "Others                                              204\n",
              "Outstanding Writing for a Drama Series               21\n",
              "Outstanding Directing for a Drama Series             13\n",
              "Outstanding Supporting Actor in a Drama Series        9\n",
              "Outstanding Lead Actress in a Drama Series            9\n",
              "Outstanding Drama Series                              8\n",
              "Outstanding Lead Actor in a Drama Series              6\n",
              "Outstanding Supporting Actress in a Drama Series      6\n",
              "Name: Category, dtype: int64"
            ]
          },
          "metadata": {},
          "execution_count": 44
        }
      ]
    },
    {
      "cell_type": "code",
      "metadata": {
        "id": "hm8iXaY-OI2Z"
      },
      "source": [
        "df.drop(['Ref.'], axis = 1, inplace = True) #deleting an irrelevant column"
      ],
      "execution_count": 33,
      "outputs": []
    },
    {
      "cell_type": "code",
      "metadata": {
        "colab": {
          "base_uri": "https://localhost:8080/"
        },
        "id": "X7WSUBK6CPiz",
        "outputId": "5e488508-8145-4691-95fc-faa5eee2fb50"
      },
      "source": [
        "df['Result'].value_counts() "
      ],
      "execution_count": 34,
      "outputs": [
        {
          "output_type": "execute_result",
          "data": {
            "text/plain": [
              "Nominated    193\n",
              "Won           66\n",
              "Honored       14\n",
              "Won[g]         1\n",
              "Won[h]         1\n",
              "Won[e]         1\n",
              "Name: Result, dtype: int64"
            ]
          },
          "metadata": {},
          "execution_count": 34
        }
      ]
    },
    {
      "cell_type": "code",
      "metadata": {
        "id": "FHc1b_AmCYbt"
      },
      "source": [
        "def formatting_result(result):\n",
        "    if result == 'Nominated':\n",
        "        return result       \n",
        "    else: \n",
        "      return 'Won'\n",
        "\n",
        "\n",
        "df['Result'] = df['Result'].apply(formatting_result)"
      ],
      "execution_count": 49,
      "outputs": []
    },
    {
      "cell_type": "code",
      "metadata": {
        "colab": {
          "base_uri": "https://localhost:8080/"
        },
        "id": "cgITmhyL652K",
        "outputId": "5cd17e85-944d-4f1b-c535-48edd629f453"
      },
      "source": [
        "df['Result'].value_counts() #it's better now"
      ],
      "execution_count": 50,
      "outputs": [
        {
          "output_type": "execute_result",
          "data": {
            "text/plain": [
              "Nominated    193\n",
              "Won           83\n",
              "Name: Result, dtype: int64"
            ]
          },
          "metadata": {},
          "execution_count": 50
        }
      ]
    },
    {
      "cell_type": "markdown",
      "metadata": {
        "id": "KPVJj0IbE7t5"
      },
      "source": [
        "**Visualizing the data**"
      ]
    },
    {
      "cell_type": "code",
      "metadata": {
        "colab": {
          "base_uri": "https://localhost:8080/",
          "height": 351
        },
        "id": "vr_qhf9lBZRZ",
        "outputId": "adcd4c79-389b-4377-8331-746c54c74909"
      },
      "source": [
        "# Nominations from all the awards and their results\n",
        "\n",
        "plt.figure(figsize = (16,5))\n",
        "sns.countplot(x= 'Year', hue= 'Result', data = df, palette = 'Blues')"
      ],
      "execution_count": 37,
      "outputs": [
        {
          "output_type": "execute_result",
          "data": {
            "text/plain": [
              "<matplotlib.axes._subplots.AxesSubplot at 0x7f8e2c6f8750>"
            ]
          },
          "metadata": {},
          "execution_count": 37
        },
        {
          "output_type": "display_data",
          "data": {
            "image/png": "[encoded data removed]",
            "text/plain": [
              "<Figure size 1152x360 with 1 Axes>"
            ]
          },
          "metadata": {
            "needs_background": "light"
          }
        }
      ]
    },
    {
      "cell_type": "code",
      "metadata": {
        "id": "xWacY-ZQDyGF",
        "colab": {
          "base_uri": "https://localhost:8080/",
          "height": 419
        },
        "outputId": "c9066631-6277-437b-8353-5194aa33a019"
      },
      "source": [
        "#Let's focus now only on the Primetime Emmy Awards\n",
        "\n",
        "emmy = df[df[\"Award\"] == 'Primetime Emmy Awards']\n",
        "emmy"
      ],
      "execution_count": 47,
      "outputs": [
        {
          "output_type": "execute_result",
          "data": {
            "text/html": [
              "<div>\n",
              "<style scoped>\n",
              "    .dataframe tbody tr th:only-of-type {\n",
              "        vertical-align: middle;\n",
              "    }\n",
              "\n",
              "    .dataframe tbody tr th {\n",
              "        vertical-align: top;\n",
              "    }\n",
              "\n",
              "    .dataframe thead th {\n",
              "        text-align: right;\n",
              "    }\n",
              "</style>\n",
              "<table border=\"1\" class=\"dataframe\">\n",
              "  <thead>\n",
              "    <tr style=\"text-align: right;\">\n",
              "      <th></th>\n",
              "      <th>Award</th>\n",
              "      <th>Year</th>\n",
              "      <th>Category</th>\n",
              "      <th>Nominee(s)</th>\n",
              "      <th>Result</th>\n",
              "    </tr>\n",
              "  </thead>\n",
              "  <tbody>\n",
              "    <tr>\n",
              "      <th>88</th>\n",
              "      <td>Primetime Emmy Awards</td>\n",
              "      <td>1999</td>\n",
              "      <td>Outstanding Drama Series</td>\n",
              "      <td>The Sopranos[Nom 19]</td>\n",
              "      <td>Nominated</td>\n",
              "    </tr>\n",
              "    <tr>\n",
              "      <th>89</th>\n",
              "      <td>Primetime Emmy Awards</td>\n",
              "      <td>1999</td>\n",
              "      <td>Outstanding Directing for a Drama Series</td>\n",
              "      <td>David Chase (for \"The Sopranos\")</td>\n",
              "      <td>Nominated</td>\n",
              "    </tr>\n",
              "    <tr>\n",
              "      <th>90</th>\n",
              "      <td>Primetime Emmy Awards</td>\n",
              "      <td>1999</td>\n",
              "      <td>Outstanding Writing for a Drama Series</td>\n",
              "      <td>David Chase (for \"The Sopranos\")</td>\n",
              "      <td>Nominated</td>\n",
              "    </tr>\n",
              "    <tr>\n",
              "      <th>91</th>\n",
              "      <td>Primetime Emmy Awards</td>\n",
              "      <td>1999</td>\n",
              "      <td>Outstanding Writing for a Drama Series</td>\n",
              "      <td>James Manos, Jr. and David Chase (for \"College\")</td>\n",
              "      <td>Won</td>\n",
              "    </tr>\n",
              "    <tr>\n",
              "      <th>92</th>\n",
              "      <td>Primetime Emmy Awards</td>\n",
              "      <td>1999</td>\n",
              "      <td>Outstanding Writing for a Drama Series</td>\n",
              "      <td>Frank Renzulli (for \"Nobody Knows Anything\")</td>\n",
              "      <td>Nominated</td>\n",
              "    </tr>\n",
              "    <tr>\n",
              "      <th>...</th>\n",
              "      <td>...</td>\n",
              "      <td>...</td>\n",
              "      <td>...</td>\n",
              "      <td>...</td>\n",
              "      <td>...</td>\n",
              "    </tr>\n",
              "    <tr>\n",
              "      <th>154</th>\n",
              "      <td>Primetime Emmy Awards</td>\n",
              "      <td>2007</td>\n",
              "      <td>Outstanding Lead Actor in a Drama Series</td>\n",
              "      <td>James Gandolfini</td>\n",
              "      <td>Nominated</td>\n",
              "    </tr>\n",
              "    <tr>\n",
              "      <th>155</th>\n",
              "      <td>Primetime Emmy Awards</td>\n",
              "      <td>2007</td>\n",
              "      <td>Outstanding Lead Actress in a Drama Series</td>\n",
              "      <td>Edie Falco</td>\n",
              "      <td>Nominated</td>\n",
              "    </tr>\n",
              "    <tr>\n",
              "      <th>156</th>\n",
              "      <td>Primetime Emmy Awards</td>\n",
              "      <td>2007</td>\n",
              "      <td>Outstanding Supporting Actor in a Drama Series</td>\n",
              "      <td>Michael Imperioli</td>\n",
              "      <td>Nominated</td>\n",
              "    </tr>\n",
              "    <tr>\n",
              "      <th>157</th>\n",
              "      <td>Primetime Emmy Awards</td>\n",
              "      <td>2007</td>\n",
              "      <td>Outstanding Supporting Actress in a Drama Series</td>\n",
              "      <td>Lorraine Bracco</td>\n",
              "      <td>Nominated</td>\n",
              "    </tr>\n",
              "    <tr>\n",
              "      <th>158</th>\n",
              "      <td>Primetime Emmy Awards</td>\n",
              "      <td>2007</td>\n",
              "      <td>Outstanding Supporting Actress in a Drama Series</td>\n",
              "      <td>Aida Turturro</td>\n",
              "      <td>Nominated</td>\n",
              "    </tr>\n",
              "  </tbody>\n",
              "</table>\n",
              "<p>71 rows × 5 columns</p>\n",
              "</div>"
            ],
            "text/plain": [
              "                     Award  ...     Result\n",
              "88   Primetime Emmy Awards  ...  Nominated\n",
              "89   Primetime Emmy Awards  ...  Nominated\n",
              "90   Primetime Emmy Awards  ...  Nominated\n",
              "91   Primetime Emmy Awards  ...        Won\n",
              "92   Primetime Emmy Awards  ...  Nominated\n",
              "..                     ...  ...        ...\n",
              "154  Primetime Emmy Awards  ...  Nominated\n",
              "155  Primetime Emmy Awards  ...  Nominated\n",
              "156  Primetime Emmy Awards  ...  Nominated\n",
              "157  Primetime Emmy Awards  ...  Nominated\n",
              "158  Primetime Emmy Awards  ...  Nominated\n",
              "\n",
              "[71 rows x 5 columns]"
            ]
          },
          "metadata": {},
          "execution_count": 47
        }
      ]
    },
    {
      "cell_type": "code",
      "metadata": {
        "colab": {
          "base_uri": "https://localhost:8080/",
          "height": 351
        },
        "id": "wMlSaqnHFMmW",
        "outputId": "6c2d1b75-302f-47e8-ec54-eeec98ba29d1"
      },
      "source": [
        "#Primetime Emmy Awards result by categories \n",
        "\n",
        "plt.figure(figsize = (16,5))\n",
        "sns.countplot(y= 'Category', hue= 'Result', data = emmy, palette = 'PuBuGn')"
      ],
      "execution_count": 40,
      "outputs": [
        {
          "output_type": "execute_result",
          "data": {
            "text/plain": [
              "<matplotlib.axes._subplots.AxesSubplot at 0x7f8e36028bd0>"
            ]
          },
          "metadata": {},
          "execution_count": 40
        },
        {
          "output_type": "display_data",
          "data": {
            "image/png": "[encoded data removed]",
            "text/plain": [
              "<Figure size 1152x360 with 1 Axes>"
            ]
          },
          "metadata": {
            "needs_background": "light"
          }
        }
      ]
    },
    {
      "cell_type": "code",
      "metadata": {
        "colab": {
          "base_uri": "https://localhost:8080/"
        },
        "id": "WRQd6nYf9Q3Y",
        "outputId": "08c7607d-5bf4-45b7-fcd7-a37fec30e84e"
      },
      "source": [
        "emmy['Result'].value_counts()"
      ],
      "execution_count": 41,
      "outputs": [
        {
          "output_type": "execute_result",
          "data": {
            "text/plain": [
              "Nominated    53\n",
              "Won          18\n",
              "Name: Result, dtype: int64"
            ]
          },
          "metadata": {},
          "execution_count": 41
        }
      ]
    },
    {
      "cell_type": "code",
      "metadata": {
        "colab": {
          "base_uri": "https://localhost:8080/",
          "height": 366
        },
        "id": "ppAhxtWIGg5w",
        "outputId": "00672f3d-c955-4716-c454-b9b8e4581e9d"
      },
      "source": [
        "#Primetime Emmy Awards result by year \n",
        "\n",
        "plt.figure(figsize = (16,5))\n",
        "plt.xticks(rotation=45)\n",
        "\n",
        "sns.countplot(x= 'Year', hue= 'Result', data = emmy, palette = 'GnBu_r')"
      ],
      "execution_count": 42,
      "outputs": [
        {
          "output_type": "execute_result",
          "data": {
            "text/plain": [
              "<matplotlib.axes._subplots.AxesSubplot at 0x7f8e36042e90>"
            ]
          },
          "metadata": {},
          "execution_count": 42
        },
        {
          "output_type": "display_data",
          "data": {
            "image/png": "[encoded data removed]",
            "text/plain": [
              "<Figure size 1152x360 with 1 Axes>"
            ]
          },
          "metadata": {
            "needs_background": "light"
          }
        }
      ]
    }
  ]
}